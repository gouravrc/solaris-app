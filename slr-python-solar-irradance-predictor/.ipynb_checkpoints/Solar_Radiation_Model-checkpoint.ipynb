{
 "cells": [
  {
   "cell_type": "code",
   "execution_count": 56,
   "metadata": {
    "id": "TdXRpI79TjNN"
   },
   "outputs": [],
   "source": [
    "import pandas as pd\n",
    "import seaborn as sns\n",
    "import matplotlib.pyplot as plt\n",
    "from scipy import stats\n",
    "import warnings\n",
    "warnings.filterwarnings('ignore')"
   ]
  },
  {
   "cell_type": "code",
   "execution_count": 57,
   "metadata": {
    "id": "-WD49x39C88M"
   },
   "outputs": [],
   "source": [
    "df = pd.read_csv('global_heat_index.csv')"
   ]
  },
  {
   "cell_type": "code",
   "execution_count": 58,
   "metadata": {
    "colab": {
     "base_uri": "https://localhost:8080/"
    },
    "id": "0Js26ca4B46z",
    "outputId": "c34165ca-b94c-4e0a-cf55-590e12d5046a"
   },
   "outputs": [
    {
     "data": {
      "text/plain": [
       "Index(['Year', 'Month', 'Day', 'Hour', 'Dew Point', 'Temperature', 'Pressure',\n",
       "       'Relative Humidity', 'Wind Direction', 'Wind Speed',\n",
       "       'Solar Radiation (GHI)'],\n",
       "      dtype='object')"
      ]
     },
     "execution_count": 58,
     "metadata": {},
     "output_type": "execute_result"
    }
   ],
   "source": [
    "df.columns"
   ]
  },
  {
   "cell_type": "code",
   "execution_count": 59,
   "metadata": {
    "id": "ZIdysu5JBp48"
   },
   "outputs": [],
   "source": [
    "df = df.rename(columns={'Dew Point': 'Dew_Point', 'Relative Humidity': 'Relative_Humidity', 'Wind Direction': 'Wind_Direction', 'Wind Speed' : 'Wind_Speed', 'Solar Radiation (GHI)' : 'Solar_Radiation'})"
   ]
  },
  {
   "cell_type": "code",
   "execution_count": 60,
   "metadata": {
    "colab": {
     "base_uri": "https://localhost:8080/",
     "height": 423
    },
    "id": "A-w3jdvUCQ4Y",
    "outputId": "657cb9a4-8e80-4408-88e5-856a72d1e25f"
   },
   "outputs": [
    {
     "data": {
      "text/html": [
       "<div>\n",
       "<style scoped>\n",
       "    .dataframe tbody tr th:only-of-type {\n",
       "        vertical-align: middle;\n",
       "    }\n",
       "\n",
       "    .dataframe tbody tr th {\n",
       "        vertical-align: top;\n",
       "    }\n",
       "\n",
       "    .dataframe thead th {\n",
       "        text-align: right;\n",
       "    }\n",
       "</style>\n",
       "<table border=\"1\" class=\"dataframe\">\n",
       "  <thead>\n",
       "    <tr style=\"text-align: right;\">\n",
       "      <th></th>\n",
       "      <th>Year</th>\n",
       "      <th>Month</th>\n",
       "      <th>Day</th>\n",
       "      <th>Hour</th>\n",
       "      <th>Dew_Point</th>\n",
       "      <th>Temperature</th>\n",
       "      <th>Pressure</th>\n",
       "      <th>Relative_Humidity</th>\n",
       "      <th>Wind_Direction</th>\n",
       "      <th>Wind_Speed</th>\n",
       "      <th>Solar_Radiation</th>\n",
       "    </tr>\n",
       "  </thead>\n",
       "  <tbody>\n",
       "    <tr>\n",
       "      <th>0</th>\n",
       "      <td>2011</td>\n",
       "      <td>1</td>\n",
       "      <td>1</td>\n",
       "      <td>0</td>\n",
       "      <td>8</td>\n",
       "      <td>13.522659</td>\n",
       "      <td>986.761841</td>\n",
       "      <td>72.295858</td>\n",
       "      <td>37.288387</td>\n",
       "      <td>3.011042</td>\n",
       "      <td>0</td>\n",
       "    </tr>\n",
       "    <tr>\n",
       "      <th>1</th>\n",
       "      <td>2011</td>\n",
       "      <td>1</td>\n",
       "      <td>1</td>\n",
       "      <td>1</td>\n",
       "      <td>8</td>\n",
       "      <td>12.835814</td>\n",
       "      <td>986.441406</td>\n",
       "      <td>75.376186</td>\n",
       "      <td>37.686718</td>\n",
       "      <td>3.091243</td>\n",
       "      <td>0</td>\n",
       "    </tr>\n",
       "    <tr>\n",
       "      <th>2</th>\n",
       "      <td>2011</td>\n",
       "      <td>1</td>\n",
       "      <td>1</td>\n",
       "      <td>2</td>\n",
       "      <td>8</td>\n",
       "      <td>12.198058</td>\n",
       "      <td>985.736511</td>\n",
       "      <td>78.405198</td>\n",
       "      <td>35.053905</td>\n",
       "      <td>3.007649</td>\n",
       "      <td>0</td>\n",
       "    </tr>\n",
       "    <tr>\n",
       "      <th>3</th>\n",
       "      <td>2011</td>\n",
       "      <td>1</td>\n",
       "      <td>1</td>\n",
       "      <td>3</td>\n",
       "      <td>8</td>\n",
       "      <td>11.583500</td>\n",
       "      <td>985.525696</td>\n",
       "      <td>81.042980</td>\n",
       "      <td>30.135216</td>\n",
       "      <td>2.926715</td>\n",
       "      <td>0</td>\n",
       "    </tr>\n",
       "    <tr>\n",
       "      <th>4</th>\n",
       "      <td>2011</td>\n",
       "      <td>1</td>\n",
       "      <td>1</td>\n",
       "      <td>4</td>\n",
       "      <td>8</td>\n",
       "      <td>11.029578</td>\n",
       "      <td>985.661926</td>\n",
       "      <td>82.548508</td>\n",
       "      <td>24.402969</td>\n",
       "      <td>2.915177</td>\n",
       "      <td>0</td>\n",
       "    </tr>\n",
       "    <tr>\n",
       "      <th>...</th>\n",
       "      <td>...</td>\n",
       "      <td>...</td>\n",
       "      <td>...</td>\n",
       "      <td>...</td>\n",
       "      <td>...</td>\n",
       "      <td>...</td>\n",
       "      <td>...</td>\n",
       "      <td>...</td>\n",
       "      <td>...</td>\n",
       "      <td>...</td>\n",
       "      <td>...</td>\n",
       "    </tr>\n",
       "    <tr>\n",
       "      <th>17515</th>\n",
       "      <td>2012</td>\n",
       "      <td>12</td>\n",
       "      <td>31</td>\n",
       "      <td>19</td>\n",
       "      <td>-6</td>\n",
       "      <td>14.702595</td>\n",
       "      <td>984.779114</td>\n",
       "      <td>22.647353</td>\n",
       "      <td>54.538628</td>\n",
       "      <td>3.383211</td>\n",
       "      <td>0</td>\n",
       "    </tr>\n",
       "    <tr>\n",
       "      <th>17516</th>\n",
       "      <td>2012</td>\n",
       "      <td>12</td>\n",
       "      <td>31</td>\n",
       "      <td>20</td>\n",
       "      <td>-6</td>\n",
       "      <td>13.823766</td>\n",
       "      <td>985.189148</td>\n",
       "      <td>23.993252</td>\n",
       "      <td>61.517830</td>\n",
       "      <td>3.519155</td>\n",
       "      <td>0</td>\n",
       "    </tr>\n",
       "    <tr>\n",
       "      <th>17517</th>\n",
       "      <td>2012</td>\n",
       "      <td>12</td>\n",
       "      <td>31</td>\n",
       "      <td>21</td>\n",
       "      <td>-6</td>\n",
       "      <td>12.951590</td>\n",
       "      <td>984.829224</td>\n",
       "      <td>25.759637</td>\n",
       "      <td>65.096191</td>\n",
       "      <td>3.518434</td>\n",
       "      <td>0</td>\n",
       "    </tr>\n",
       "    <tr>\n",
       "      <th>17518</th>\n",
       "      <td>2012</td>\n",
       "      <td>12</td>\n",
       "      <td>31</td>\n",
       "      <td>22</td>\n",
       "      <td>-5</td>\n",
       "      <td>12.138259</td>\n",
       "      <td>984.735046</td>\n",
       "      <td>27.901296</td>\n",
       "      <td>66.668427</td>\n",
       "      <td>3.400819</td>\n",
       "      <td>0</td>\n",
       "    </tr>\n",
       "    <tr>\n",
       "      <th>17519</th>\n",
       "      <td>2012</td>\n",
       "      <td>12</td>\n",
       "      <td>31</td>\n",
       "      <td>23</td>\n",
       "      <td>-5</td>\n",
       "      <td>11.420336</td>\n",
       "      <td>984.559753</td>\n",
       "      <td>29.884402</td>\n",
       "      <td>67.321007</td>\n",
       "      <td>3.246163</td>\n",
       "      <td>0</td>\n",
       "    </tr>\n",
       "  </tbody>\n",
       "</table>\n",
       "<p>17520 rows × 11 columns</p>\n",
       "</div>"
      ],
      "text/plain": [
       "       Year  Month  Day  Hour  Dew_Point  Temperature    Pressure  \\\n",
       "0      2011      1    1     0          8    13.522659  986.761841   \n",
       "1      2011      1    1     1          8    12.835814  986.441406   \n",
       "2      2011      1    1     2          8    12.198058  985.736511   \n",
       "3      2011      1    1     3          8    11.583500  985.525696   \n",
       "4      2011      1    1     4          8    11.029578  985.661926   \n",
       "...     ...    ...  ...   ...        ...          ...         ...   \n",
       "17515  2012     12   31    19         -6    14.702595  984.779114   \n",
       "17516  2012     12   31    20         -6    13.823766  985.189148   \n",
       "17517  2012     12   31    21         -6    12.951590  984.829224   \n",
       "17518  2012     12   31    22         -5    12.138259  984.735046   \n",
       "17519  2012     12   31    23         -5    11.420336  984.559753   \n",
       "\n",
       "       Relative_Humidity  Wind_Direction  Wind_Speed  Solar_Radiation  \n",
       "0              72.295858       37.288387    3.011042                0  \n",
       "1              75.376186       37.686718    3.091243                0  \n",
       "2              78.405198       35.053905    3.007649                0  \n",
       "3              81.042980       30.135216    2.926715                0  \n",
       "4              82.548508       24.402969    2.915177                0  \n",
       "...                  ...             ...         ...              ...  \n",
       "17515          22.647353       54.538628    3.383211                0  \n",
       "17516          23.993252       61.517830    3.519155                0  \n",
       "17517          25.759637       65.096191    3.518434                0  \n",
       "17518          27.901296       66.668427    3.400819                0  \n",
       "17519          29.884402       67.321007    3.246163                0  \n",
       "\n",
       "[17520 rows x 11 columns]"
      ]
     },
     "execution_count": 60,
     "metadata": {},
     "output_type": "execute_result"
    }
   ],
   "source": [
    "df"
   ]
  },
  {
   "cell_type": "code",
   "execution_count": 61,
   "metadata": {
    "id": "aTc9gQl5Et6f"
   },
   "outputs": [],
   "source": [
    "df = df.drop(columns=['Year', 'Month', 'Day', 'Hour'])"
   ]
  },
  {
   "cell_type": "code",
   "execution_count": 62,
   "metadata": {
    "colab": {
     "base_uri": "https://localhost:8080/",
     "height": 423
    },
    "id": "tkN7V_dGEzwi",
    "outputId": "8de9c51f-a407-452b-f891-933ea9bbd0c3"
   },
   "outputs": [
    {
     "data": {
      "text/html": [
       "<div>\n",
       "<style scoped>\n",
       "    .dataframe tbody tr th:only-of-type {\n",
       "        vertical-align: middle;\n",
       "    }\n",
       "\n",
       "    .dataframe tbody tr th {\n",
       "        vertical-align: top;\n",
       "    }\n",
       "\n",
       "    .dataframe thead th {\n",
       "        text-align: right;\n",
       "    }\n",
       "</style>\n",
       "<table border=\"1\" class=\"dataframe\">\n",
       "  <thead>\n",
       "    <tr style=\"text-align: right;\">\n",
       "      <th></th>\n",
       "      <th>Dew_Point</th>\n",
       "      <th>Temperature</th>\n",
       "      <th>Pressure</th>\n",
       "      <th>Relative_Humidity</th>\n",
       "      <th>Wind_Direction</th>\n",
       "      <th>Wind_Speed</th>\n",
       "      <th>Solar_Radiation</th>\n",
       "    </tr>\n",
       "  </thead>\n",
       "  <tbody>\n",
       "    <tr>\n",
       "      <th>0</th>\n",
       "      <td>8</td>\n",
       "      <td>13.522659</td>\n",
       "      <td>986.761841</td>\n",
       "      <td>72.295858</td>\n",
       "      <td>37.288387</td>\n",
       "      <td>3.011042</td>\n",
       "      <td>0</td>\n",
       "    </tr>\n",
       "    <tr>\n",
       "      <th>1</th>\n",
       "      <td>8</td>\n",
       "      <td>12.835814</td>\n",
       "      <td>986.441406</td>\n",
       "      <td>75.376186</td>\n",
       "      <td>37.686718</td>\n",
       "      <td>3.091243</td>\n",
       "      <td>0</td>\n",
       "    </tr>\n",
       "    <tr>\n",
       "      <th>2</th>\n",
       "      <td>8</td>\n",
       "      <td>12.198058</td>\n",
       "      <td>985.736511</td>\n",
       "      <td>78.405198</td>\n",
       "      <td>35.053905</td>\n",
       "      <td>3.007649</td>\n",
       "      <td>0</td>\n",
       "    </tr>\n",
       "    <tr>\n",
       "      <th>3</th>\n",
       "      <td>8</td>\n",
       "      <td>11.583500</td>\n",
       "      <td>985.525696</td>\n",
       "      <td>81.042980</td>\n",
       "      <td>30.135216</td>\n",
       "      <td>2.926715</td>\n",
       "      <td>0</td>\n",
       "    </tr>\n",
       "    <tr>\n",
       "      <th>4</th>\n",
       "      <td>8</td>\n",
       "      <td>11.029578</td>\n",
       "      <td>985.661926</td>\n",
       "      <td>82.548508</td>\n",
       "      <td>24.402969</td>\n",
       "      <td>2.915177</td>\n",
       "      <td>0</td>\n",
       "    </tr>\n",
       "    <tr>\n",
       "      <th>...</th>\n",
       "      <td>...</td>\n",
       "      <td>...</td>\n",
       "      <td>...</td>\n",
       "      <td>...</td>\n",
       "      <td>...</td>\n",
       "      <td>...</td>\n",
       "      <td>...</td>\n",
       "    </tr>\n",
       "    <tr>\n",
       "      <th>17515</th>\n",
       "      <td>-6</td>\n",
       "      <td>14.702595</td>\n",
       "      <td>984.779114</td>\n",
       "      <td>22.647353</td>\n",
       "      <td>54.538628</td>\n",
       "      <td>3.383211</td>\n",
       "      <td>0</td>\n",
       "    </tr>\n",
       "    <tr>\n",
       "      <th>17516</th>\n",
       "      <td>-6</td>\n",
       "      <td>13.823766</td>\n",
       "      <td>985.189148</td>\n",
       "      <td>23.993252</td>\n",
       "      <td>61.517830</td>\n",
       "      <td>3.519155</td>\n",
       "      <td>0</td>\n",
       "    </tr>\n",
       "    <tr>\n",
       "      <th>17517</th>\n",
       "      <td>-6</td>\n",
       "      <td>12.951590</td>\n",
       "      <td>984.829224</td>\n",
       "      <td>25.759637</td>\n",
       "      <td>65.096191</td>\n",
       "      <td>3.518434</td>\n",
       "      <td>0</td>\n",
       "    </tr>\n",
       "    <tr>\n",
       "      <th>17518</th>\n",
       "      <td>-5</td>\n",
       "      <td>12.138259</td>\n",
       "      <td>984.735046</td>\n",
       "      <td>27.901296</td>\n",
       "      <td>66.668427</td>\n",
       "      <td>3.400819</td>\n",
       "      <td>0</td>\n",
       "    </tr>\n",
       "    <tr>\n",
       "      <th>17519</th>\n",
       "      <td>-5</td>\n",
       "      <td>11.420336</td>\n",
       "      <td>984.559753</td>\n",
       "      <td>29.884402</td>\n",
       "      <td>67.321007</td>\n",
       "      <td>3.246163</td>\n",
       "      <td>0</td>\n",
       "    </tr>\n",
       "  </tbody>\n",
       "</table>\n",
       "<p>17520 rows × 7 columns</p>\n",
       "</div>"
      ],
      "text/plain": [
       "       Dew_Point  Temperature    Pressure  Relative_Humidity  Wind_Direction  \\\n",
       "0              8    13.522659  986.761841          72.295858       37.288387   \n",
       "1              8    12.835814  986.441406          75.376186       37.686718   \n",
       "2              8    12.198058  985.736511          78.405198       35.053905   \n",
       "3              8    11.583500  985.525696          81.042980       30.135216   \n",
       "4              8    11.029578  985.661926          82.548508       24.402969   \n",
       "...          ...          ...         ...                ...             ...   \n",
       "17515         -6    14.702595  984.779114          22.647353       54.538628   \n",
       "17516         -6    13.823766  985.189148          23.993252       61.517830   \n",
       "17517         -6    12.951590  984.829224          25.759637       65.096191   \n",
       "17518         -5    12.138259  984.735046          27.901296       66.668427   \n",
       "17519         -5    11.420336  984.559753          29.884402       67.321007   \n",
       "\n",
       "       Wind_Speed  Solar_Radiation  \n",
       "0        3.011042                0  \n",
       "1        3.091243                0  \n",
       "2        3.007649                0  \n",
       "3        2.926715                0  \n",
       "4        2.915177                0  \n",
       "...           ...              ...  \n",
       "17515    3.383211                0  \n",
       "17516    3.519155                0  \n",
       "17517    3.518434                0  \n",
       "17518    3.400819                0  \n",
       "17519    3.246163                0  \n",
       "\n",
       "[17520 rows x 7 columns]"
      ]
     },
     "execution_count": 62,
     "metadata": {},
     "output_type": "execute_result"
    }
   ],
   "source": [
    "df"
   ]
  },
  {
   "cell_type": "code",
   "execution_count": 63,
   "metadata": {
    "colab": {
     "base_uri": "https://localhost:8080/"
    },
    "id": "c-RYkIVECRwl",
    "outputId": "199e2cb8-5efc-4bf8-f05f-358135c16b66"
   },
   "outputs": [
    {
     "name": "stdout",
     "output_type": "stream",
     "text": [
      "<class 'pandas.core.frame.DataFrame'>\n",
      "RangeIndex: 17520 entries, 0 to 17519\n",
      "Data columns (total 7 columns):\n",
      " #   Column             Non-Null Count  Dtype  \n",
      "---  ------             --------------  -----  \n",
      " 0   Dew_Point          17520 non-null  int64  \n",
      " 1   Temperature        17520 non-null  float64\n",
      " 2   Pressure           17520 non-null  float64\n",
      " 3   Relative_Humidity  17520 non-null  float64\n",
      " 4   Wind_Direction     17520 non-null  float64\n",
      " 5   Wind_Speed         17520 non-null  float64\n",
      " 6   Solar_Radiation    17520 non-null  int64  \n",
      "dtypes: float64(5), int64(2)\n",
      "memory usage: 958.3 KB\n"
     ]
    }
   ],
   "source": [
    "df.info()"
   ]
  },
  {
   "cell_type": "code",
   "execution_count": 64,
   "metadata": {
    "id": "Pd3DFnLuDE4Y"
   },
   "outputs": [],
   "source": [
    "def check_normality(column):\n",
    "    # Shapiro-Wilk Test\n",
    "    stat, p = stats.shapiro(column)\n",
    "    print(f'Shapiro-Wilk Test: Statistics={stat:.3f}, p={p:.3f}')\n",
    "    if p > 0.05:\n",
    "        print('Probably Gaussian (fail to reject H0)')\n",
    "    else:\n",
    "        print('Probably not Gaussian (reject H0)')\n",
    "\n",
    "    # Histogram and KDE\n",
    "    plt.figure(figsize=(6, 4))\n",
    "    sns.histplot(column, kde=True)\n",
    "    plt.title('Histogram and KDE')\n",
    "    plt.show()"
   ]
  },
  {
   "cell_type": "code",
   "execution_count": 65,
   "metadata": {
    "colab": {
     "base_uri": "https://localhost:8080/"
    },
    "id": "dBESU1rWJNi2",
    "outputId": "850ff07f-ed67-4e93-b2cb-ff7942396ebe"
   },
   "outputs": [
    {
     "name": "stdout",
     "output_type": "stream",
     "text": [
      "Highest allowed 43.925759307863004\n",
      "Lowest allowed -21.175416842109584\n"
     ]
    }
   ],
   "source": [
    "# Finding the boundary values\n",
    "print(\"Highest allowed\",df['Dew_Point'].mean() + 3*df['Dew_Point'].std())\n",
    "print(\"Lowest allowed\",df['Dew_Point'].mean() - 3*df['Dew_Point'].std())"
   ]
  },
  {
   "cell_type": "markdown",
   "metadata": {
    "id": "uXgtEDu0J2n1"
   },
   "source": [
    "Dew Point Column Outlier Treatment"
   ]
  },
  {
   "cell_type": "code",
   "execution_count": 66,
   "metadata": {
    "id": "c4LRI8nWJcII"
   },
   "outputs": [],
   "source": [
    "df['Dew_Point_zscore'] = (df['Dew_Point'] - df['Dew_Point'].mean())/df['Dew_Point'].std()"
   ]
  },
  {
   "cell_type": "code",
   "execution_count": 67,
   "metadata": {
    "colab": {
     "base_uri": "https://localhost:8080/",
     "height": 53
    },
    "id": "RoruWbzoJico",
    "outputId": "2742719d-4b20-4a1a-c333-bd1923e3b67b"
   },
   "outputs": [
    {
     "data": {
      "text/html": [
       "<div>\n",
       "<style scoped>\n",
       "    .dataframe tbody tr th:only-of-type {\n",
       "        vertical-align: middle;\n",
       "    }\n",
       "\n",
       "    .dataframe tbody tr th {\n",
       "        vertical-align: top;\n",
       "    }\n",
       "\n",
       "    .dataframe thead th {\n",
       "        text-align: right;\n",
       "    }\n",
       "</style>\n",
       "<table border=\"1\" class=\"dataframe\">\n",
       "  <thead>\n",
       "    <tr style=\"text-align: right;\">\n",
       "      <th></th>\n",
       "      <th>Dew_Point</th>\n",
       "      <th>Temperature</th>\n",
       "      <th>Pressure</th>\n",
       "      <th>Relative_Humidity</th>\n",
       "      <th>Wind_Direction</th>\n",
       "      <th>Wind_Speed</th>\n",
       "      <th>Solar_Radiation</th>\n",
       "      <th>Dew_Point_zscore</th>\n",
       "    </tr>\n",
       "  </thead>\n",
       "  <tbody>\n",
       "  </tbody>\n",
       "</table>\n",
       "</div>"
      ],
      "text/plain": [
       "Empty DataFrame\n",
       "Columns: [Dew_Point, Temperature, Pressure, Relative_Humidity, Wind_Direction, Wind_Speed, Solar_Radiation, Dew_Point_zscore]\n",
       "Index: []"
      ]
     },
     "execution_count": 67,
     "metadata": {},
     "output_type": "execute_result"
    }
   ],
   "source": [
    "df[df['Dew_Point_zscore'] > 3]"
   ]
  },
  {
   "cell_type": "code",
   "execution_count": 68,
   "metadata": {
    "colab": {
     "base_uri": "https://localhost:8080/",
     "height": 1000
    },
    "id": "lQne466OJR-6",
    "outputId": "b4263420-1400-4570-bb51-f62a95a2354a"
   },
   "outputs": [
    {
     "data": {
      "text/html": [
       "<div>\n",
       "<style scoped>\n",
       "    .dataframe tbody tr th:only-of-type {\n",
       "        vertical-align: middle;\n",
       "    }\n",
       "\n",
       "    .dataframe tbody tr th {\n",
       "        vertical-align: top;\n",
       "    }\n",
       "\n",
       "    .dataframe thead th {\n",
       "        text-align: right;\n",
       "    }\n",
       "</style>\n",
       "<table border=\"1\" class=\"dataframe\">\n",
       "  <thead>\n",
       "    <tr style=\"text-align: right;\">\n",
       "      <th></th>\n",
       "      <th>Dew_Point</th>\n",
       "      <th>Temperature</th>\n",
       "      <th>Pressure</th>\n",
       "      <th>Relative_Humidity</th>\n",
       "      <th>Wind_Direction</th>\n",
       "      <th>Wind_Speed</th>\n",
       "      <th>Solar_Radiation</th>\n",
       "      <th>Dew_Point_zscore</th>\n",
       "    </tr>\n",
       "  </thead>\n",
       "  <tbody>\n",
       "    <tr>\n",
       "      <th>10647</th>\n",
       "      <td>-22</td>\n",
       "      <td>30.739166</td>\n",
       "      <td>982.354981</td>\n",
       "      <td>2.352108</td>\n",
       "      <td>282.661194</td>\n",
       "      <td>3.429575</td>\n",
       "      <td>623</td>\n",
       "      <td>-3.075997</td>\n",
       "    </tr>\n",
       "    <tr>\n",
       "      <th>10648</th>\n",
       "      <td>-22</td>\n",
       "      <td>28.638682</td>\n",
       "      <td>982.450867</td>\n",
       "      <td>2.562213</td>\n",
       "      <td>288.813782</td>\n",
       "      <td>3.594525</td>\n",
       "      <td>419</td>\n",
       "      <td>-3.075997</td>\n",
       "    </tr>\n",
       "    <tr>\n",
       "      <th>10649</th>\n",
       "      <td>-22</td>\n",
       "      <td>25.654783</td>\n",
       "      <td>983.096069</td>\n",
       "      <td>3.160298</td>\n",
       "      <td>300.137299</td>\n",
       "      <td>3.623834</td>\n",
       "      <td>179</td>\n",
       "      <td>-3.075997</td>\n",
       "    </tr>\n",
       "    <tr>\n",
       "      <th>10666</th>\n",
       "      <td>-23</td>\n",
       "      <td>29.612020</td>\n",
       "      <td>986.367798</td>\n",
       "      <td>2.194860</td>\n",
       "      <td>55.472466</td>\n",
       "      <td>2.882072</td>\n",
       "      <td>691</td>\n",
       "      <td>-3.168161</td>\n",
       "    </tr>\n",
       "    <tr>\n",
       "      <th>10667</th>\n",
       "      <td>-25</td>\n",
       "      <td>31.757032</td>\n",
       "      <td>985.547852</td>\n",
       "      <td>1.652091</td>\n",
       "      <td>53.754822</td>\n",
       "      <td>2.837034</td>\n",
       "      <td>833</td>\n",
       "      <td>-3.352490</td>\n",
       "    </tr>\n",
       "    <tr>\n",
       "      <th>10668</th>\n",
       "      <td>-26</td>\n",
       "      <td>33.104588</td>\n",
       "      <td>984.827637</td>\n",
       "      <td>1.360074</td>\n",
       "      <td>52.244553</td>\n",
       "      <td>2.805114</td>\n",
       "      <td>891</td>\n",
       "      <td>-3.444654</td>\n",
       "    </tr>\n",
       "    <tr>\n",
       "      <th>10669</th>\n",
       "      <td>-27</td>\n",
       "      <td>33.585670</td>\n",
       "      <td>983.594177</td>\n",
       "      <td>1.235419</td>\n",
       "      <td>50.387272</td>\n",
       "      <td>2.868473</td>\n",
       "      <td>874</td>\n",
       "      <td>-3.536818</td>\n",
       "    </tr>\n",
       "    <tr>\n",
       "      <th>10670</th>\n",
       "      <td>-27</td>\n",
       "      <td>33.191209</td>\n",
       "      <td>982.709534</td>\n",
       "      <td>1.212982</td>\n",
       "      <td>46.270603</td>\n",
       "      <td>2.894958</td>\n",
       "      <td>796</td>\n",
       "      <td>-3.536818</td>\n",
       "    </tr>\n",
       "    <tr>\n",
       "      <th>10671</th>\n",
       "      <td>-28</td>\n",
       "      <td>32.004996</td>\n",
       "      <td>982.393127</td>\n",
       "      <td>1.281818</td>\n",
       "      <td>40.210434</td>\n",
       "      <td>2.956874</td>\n",
       "      <td>626</td>\n",
       "      <td>-3.628982</td>\n",
       "    </tr>\n",
       "    <tr>\n",
       "      <th>10672</th>\n",
       "      <td>-27</td>\n",
       "      <td>29.946175</td>\n",
       "      <td>982.661438</td>\n",
       "      <td>1.479728</td>\n",
       "      <td>34.558922</td>\n",
       "      <td>3.188481</td>\n",
       "      <td>414</td>\n",
       "      <td>-3.536818</td>\n",
       "    </tr>\n",
       "    <tr>\n",
       "      <th>10673</th>\n",
       "      <td>-26</td>\n",
       "      <td>26.682050</td>\n",
       "      <td>983.111145</td>\n",
       "      <td>2.054047</td>\n",
       "      <td>28.588455</td>\n",
       "      <td>3.569053</td>\n",
       "      <td>182</td>\n",
       "      <td>-3.444654</td>\n",
       "    </tr>\n",
       "    <tr>\n",
       "      <th>10674</th>\n",
       "      <td>-23</td>\n",
       "      <td>23.462468</td>\n",
       "      <td>983.667175</td>\n",
       "      <td>3.201807</td>\n",
       "      <td>26.098244</td>\n",
       "      <td>4.215425</td>\n",
       "      <td>6</td>\n",
       "      <td>-3.168161</td>\n",
       "    </tr>\n",
       "    <tr>\n",
       "      <th>10691</th>\n",
       "      <td>-22</td>\n",
       "      <td>34.213610</td>\n",
       "      <td>986.426880</td>\n",
       "      <td>1.810265</td>\n",
       "      <td>70.021835</td>\n",
       "      <td>1.395248</td>\n",
       "      <td>838</td>\n",
       "      <td>-3.075997</td>\n",
       "    </tr>\n",
       "    <tr>\n",
       "      <th>10692</th>\n",
       "      <td>-24</td>\n",
       "      <td>35.588902</td>\n",
       "      <td>985.738892</td>\n",
       "      <td>1.518117</td>\n",
       "      <td>50.171440</td>\n",
       "      <td>1.123600</td>\n",
       "      <td>919</td>\n",
       "      <td>-3.260326</td>\n",
       "    </tr>\n",
       "    <tr>\n",
       "      <th>10693</th>\n",
       "      <td>-24</td>\n",
       "      <td>35.975250</td>\n",
       "      <td>984.633667</td>\n",
       "      <td>1.388112</td>\n",
       "      <td>31.373909</td>\n",
       "      <td>1.185841</td>\n",
       "      <td>897</td>\n",
       "      <td>-3.260326</td>\n",
       "    </tr>\n",
       "    <tr>\n",
       "      <th>10694</th>\n",
       "      <td>-25</td>\n",
       "      <td>35.435651</td>\n",
       "      <td>983.961548</td>\n",
       "      <td>1.309322</td>\n",
       "      <td>21.128174</td>\n",
       "      <td>1.409587</td>\n",
       "      <td>803</td>\n",
       "      <td>-3.352490</td>\n",
       "    </tr>\n",
       "    <tr>\n",
       "      <th>10695</th>\n",
       "      <td>-26</td>\n",
       "      <td>34.047324</td>\n",
       "      <td>983.660339</td>\n",
       "      <td>1.276278</td>\n",
       "      <td>18.502357</td>\n",
       "      <td>1.658217</td>\n",
       "      <td>639</td>\n",
       "      <td>-3.444654</td>\n",
       "    </tr>\n",
       "    <tr>\n",
       "      <th>10696</th>\n",
       "      <td>-27</td>\n",
       "      <td>31.855023</td>\n",
       "      <td>983.513000</td>\n",
       "      <td>1.314451</td>\n",
       "      <td>20.135323</td>\n",
       "      <td>1.945224</td>\n",
       "      <td>433</td>\n",
       "      <td>-3.536818</td>\n",
       "    </tr>\n",
       "    <tr>\n",
       "      <th>10697</th>\n",
       "      <td>-27</td>\n",
       "      <td>28.316499</td>\n",
       "      <td>983.616882</td>\n",
       "      <td>1.681051</td>\n",
       "      <td>19.295280</td>\n",
       "      <td>2.482559</td>\n",
       "      <td>198</td>\n",
       "      <td>-3.536818</td>\n",
       "    </tr>\n",
       "    <tr>\n",
       "      <th>10698</th>\n",
       "      <td>-26</td>\n",
       "      <td>25.350470</td>\n",
       "      <td>984.264038</td>\n",
       "      <td>2.289798</td>\n",
       "      <td>20.247589</td>\n",
       "      <td>3.253134</td>\n",
       "      <td>9</td>\n",
       "      <td>-3.444654</td>\n",
       "    </tr>\n",
       "    <tr>\n",
       "      <th>10699</th>\n",
       "      <td>-25</td>\n",
       "      <td>24.189585</td>\n",
       "      <td>984.730164</td>\n",
       "      <td>2.468680</td>\n",
       "      <td>25.281700</td>\n",
       "      <td>3.782505</td>\n",
       "      <td>0</td>\n",
       "      <td>-3.352490</td>\n",
       "    </tr>\n",
       "    <tr>\n",
       "      <th>10700</th>\n",
       "      <td>-23</td>\n",
       "      <td>23.041826</td>\n",
       "      <td>985.268677</td>\n",
       "      <td>3.154020</td>\n",
       "      <td>33.097332</td>\n",
       "      <td>3.976355</td>\n",
       "      <td>0</td>\n",
       "      <td>-3.168161</td>\n",
       "    </tr>\n",
       "    <tr>\n",
       "      <th>10714</th>\n",
       "      <td>-25</td>\n",
       "      <td>34.855845</td>\n",
       "      <td>987.060364</td>\n",
       "      <td>1.439042</td>\n",
       "      <td>82.255493</td>\n",
       "      <td>1.083586</td>\n",
       "      <td>730</td>\n",
       "      <td>-3.352490</td>\n",
       "    </tr>\n",
       "    <tr>\n",
       "      <th>10715</th>\n",
       "      <td>-27</td>\n",
       "      <td>37.245220</td>\n",
       "      <td>985.956726</td>\n",
       "      <td>1.059581</td>\n",
       "      <td>96.621109</td>\n",
       "      <td>0.691761</td>\n",
       "      <td>858</td>\n",
       "      <td>-3.536818</td>\n",
       "    </tr>\n",
       "    <tr>\n",
       "      <th>10716</th>\n",
       "      <td>-27</td>\n",
       "      <td>38.520437</td>\n",
       "      <td>984.734253</td>\n",
       "      <td>0.921771</td>\n",
       "      <td>129.078720</td>\n",
       "      <td>0.404634</td>\n",
       "      <td>909</td>\n",
       "      <td>-3.536818</td>\n",
       "    </tr>\n",
       "    <tr>\n",
       "      <th>10717</th>\n",
       "      <td>-27</td>\n",
       "      <td>38.836156</td>\n",
       "      <td>983.599304</td>\n",
       "      <td>0.933238</td>\n",
       "      <td>192.796814</td>\n",
       "      <td>0.346619</td>\n",
       "      <td>901</td>\n",
       "      <td>-3.536818</td>\n",
       "    </tr>\n",
       "    <tr>\n",
       "      <th>10718</th>\n",
       "      <td>-27</td>\n",
       "      <td>38.176854</td>\n",
       "      <td>982.871399</td>\n",
       "      <td>0.995860</td>\n",
       "      <td>237.721664</td>\n",
       "      <td>0.494332</td>\n",
       "      <td>806</td>\n",
       "      <td>-3.536818</td>\n",
       "    </tr>\n",
       "    <tr>\n",
       "      <th>10719</th>\n",
       "      <td>-26</td>\n",
       "      <td>36.613800</td>\n",
       "      <td>982.480164</td>\n",
       "      <td>1.103746</td>\n",
       "      <td>263.899780</td>\n",
       "      <td>0.696738</td>\n",
       "      <td>642</td>\n",
       "      <td>-3.444654</td>\n",
       "    </tr>\n",
       "    <tr>\n",
       "      <th>10720</th>\n",
       "      <td>-26</td>\n",
       "      <td>34.168422</td>\n",
       "      <td>982.904053</td>\n",
       "      <td>1.285292</td>\n",
       "      <td>288.424805</td>\n",
       "      <td>1.005967</td>\n",
       "      <td>438</td>\n",
       "      <td>-3.444654</td>\n",
       "    </tr>\n",
       "    <tr>\n",
       "      <th>10721</th>\n",
       "      <td>-24</td>\n",
       "      <td>30.154634</td>\n",
       "      <td>983.541016</td>\n",
       "      <td>2.013090</td>\n",
       "      <td>313.903534</td>\n",
       "      <td>1.944278</td>\n",
       "      <td>200</td>\n",
       "      <td>-3.260326</td>\n",
       "    </tr>\n",
       "    <tr>\n",
       "      <th>10722</th>\n",
       "      <td>-23</td>\n",
       "      <td>27.271133</td>\n",
       "      <td>983.933166</td>\n",
       "      <td>2.564933</td>\n",
       "      <td>324.749664</td>\n",
       "      <td>3.009485</td>\n",
       "      <td>8</td>\n",
       "      <td>-3.168161</td>\n",
       "    </tr>\n",
       "    <tr>\n",
       "      <th>10723</th>\n",
       "      <td>-23</td>\n",
       "      <td>26.127698</td>\n",
       "      <td>984.866516</td>\n",
       "      <td>2.773689</td>\n",
       "      <td>331.670044</td>\n",
       "      <td>3.614207</td>\n",
       "      <td>0</td>\n",
       "      <td>-3.168161</td>\n",
       "    </tr>\n",
       "    <tr>\n",
       "      <th>10744</th>\n",
       "      <td>-22</td>\n",
       "      <td>35.058549</td>\n",
       "      <td>983.024048</td>\n",
       "      <td>1.839407</td>\n",
       "      <td>357.848480</td>\n",
       "      <td>1.492959</td>\n",
       "      <td>439</td>\n",
       "      <td>-3.075997</td>\n",
       "    </tr>\n",
       "    <tr>\n",
       "      <th>10760</th>\n",
       "      <td>-28</td>\n",
       "      <td>27.685863</td>\n",
       "      <td>985.029968</td>\n",
       "      <td>1.517389</td>\n",
       "      <td>147.258575</td>\n",
       "      <td>1.729438</td>\n",
       "      <td>333</td>\n",
       "      <td>-3.628982</td>\n",
       "    </tr>\n",
       "    <tr>\n",
       "      <th>10761</th>\n",
       "      <td>-27</td>\n",
       "      <td>33.066940</td>\n",
       "      <td>985.105896</td>\n",
       "      <td>1.269608</td>\n",
       "      <td>168.332367</td>\n",
       "      <td>1.165457</td>\n",
       "      <td>553</td>\n",
       "      <td>-3.536818</td>\n",
       "    </tr>\n",
       "    <tr>\n",
       "      <th>10762</th>\n",
       "      <td>-22</td>\n",
       "      <td>37.441131</td>\n",
       "      <td>984.242188</td>\n",
       "      <td>1.595579</td>\n",
       "      <td>201.553833</td>\n",
       "      <td>0.839450</td>\n",
       "      <td>734</td>\n",
       "      <td>-3.075997</td>\n",
       "    </tr>\n",
       "  </tbody>\n",
       "</table>\n",
       "</div>"
      ],
      "text/plain": [
       "       Dew_Point  Temperature    Pressure  Relative_Humidity  Wind_Direction  \\\n",
       "10647        -22    30.739166  982.354981           2.352108      282.661194   \n",
       "10648        -22    28.638682  982.450867           2.562213      288.813782   \n",
       "10649        -22    25.654783  983.096069           3.160298      300.137299   \n",
       "10666        -23    29.612020  986.367798           2.194860       55.472466   \n",
       "10667        -25    31.757032  985.547852           1.652091       53.754822   \n",
       "10668        -26    33.104588  984.827637           1.360074       52.244553   \n",
       "10669        -27    33.585670  983.594177           1.235419       50.387272   \n",
       "10670        -27    33.191209  982.709534           1.212982       46.270603   \n",
       "10671        -28    32.004996  982.393127           1.281818       40.210434   \n",
       "10672        -27    29.946175  982.661438           1.479728       34.558922   \n",
       "10673        -26    26.682050  983.111145           2.054047       28.588455   \n",
       "10674        -23    23.462468  983.667175           3.201807       26.098244   \n",
       "10691        -22    34.213610  986.426880           1.810265       70.021835   \n",
       "10692        -24    35.588902  985.738892           1.518117       50.171440   \n",
       "10693        -24    35.975250  984.633667           1.388112       31.373909   \n",
       "10694        -25    35.435651  983.961548           1.309322       21.128174   \n",
       "10695        -26    34.047324  983.660339           1.276278       18.502357   \n",
       "10696        -27    31.855023  983.513000           1.314451       20.135323   \n",
       "10697        -27    28.316499  983.616882           1.681051       19.295280   \n",
       "10698        -26    25.350470  984.264038           2.289798       20.247589   \n",
       "10699        -25    24.189585  984.730164           2.468680       25.281700   \n",
       "10700        -23    23.041826  985.268677           3.154020       33.097332   \n",
       "10714        -25    34.855845  987.060364           1.439042       82.255493   \n",
       "10715        -27    37.245220  985.956726           1.059581       96.621109   \n",
       "10716        -27    38.520437  984.734253           0.921771      129.078720   \n",
       "10717        -27    38.836156  983.599304           0.933238      192.796814   \n",
       "10718        -27    38.176854  982.871399           0.995860      237.721664   \n",
       "10719        -26    36.613800  982.480164           1.103746      263.899780   \n",
       "10720        -26    34.168422  982.904053           1.285292      288.424805   \n",
       "10721        -24    30.154634  983.541016           2.013090      313.903534   \n",
       "10722        -23    27.271133  983.933166           2.564933      324.749664   \n",
       "10723        -23    26.127698  984.866516           2.773689      331.670044   \n",
       "10744        -22    35.058549  983.024048           1.839407      357.848480   \n",
       "10760        -28    27.685863  985.029968           1.517389      147.258575   \n",
       "10761        -27    33.066940  985.105896           1.269608      168.332367   \n",
       "10762        -22    37.441131  984.242188           1.595579      201.553833   \n",
       "\n",
       "       Wind_Speed  Solar_Radiation  Dew_Point_zscore  \n",
       "10647    3.429575              623         -3.075997  \n",
       "10648    3.594525              419         -3.075997  \n",
       "10649    3.623834              179         -3.075997  \n",
       "10666    2.882072              691         -3.168161  \n",
       "10667    2.837034              833         -3.352490  \n",
       "10668    2.805114              891         -3.444654  \n",
       "10669    2.868473              874         -3.536818  \n",
       "10670    2.894958              796         -3.536818  \n",
       "10671    2.956874              626         -3.628982  \n",
       "10672    3.188481              414         -3.536818  \n",
       "10673    3.569053              182         -3.444654  \n",
       "10674    4.215425                6         -3.168161  \n",
       "10691    1.395248              838         -3.075997  \n",
       "10692    1.123600              919         -3.260326  \n",
       "10693    1.185841              897         -3.260326  \n",
       "10694    1.409587              803         -3.352490  \n",
       "10695    1.658217              639         -3.444654  \n",
       "10696    1.945224              433         -3.536818  \n",
       "10697    2.482559              198         -3.536818  \n",
       "10698    3.253134                9         -3.444654  \n",
       "10699    3.782505                0         -3.352490  \n",
       "10700    3.976355                0         -3.168161  \n",
       "10714    1.083586              730         -3.352490  \n",
       "10715    0.691761              858         -3.536818  \n",
       "10716    0.404634              909         -3.536818  \n",
       "10717    0.346619              901         -3.536818  \n",
       "10718    0.494332              806         -3.536818  \n",
       "10719    0.696738              642         -3.444654  \n",
       "10720    1.005967              438         -3.444654  \n",
       "10721    1.944278              200         -3.260326  \n",
       "10722    3.009485                8         -3.168161  \n",
       "10723    3.614207                0         -3.168161  \n",
       "10744    1.492959              439         -3.075997  \n",
       "10760    1.729438              333         -3.628982  \n",
       "10761    1.165457              553         -3.536818  \n",
       "10762    0.839450              734         -3.075997  "
      ]
     },
     "execution_count": 68,
     "metadata": {},
     "output_type": "execute_result"
    }
   ],
   "source": [
    "df[df['Dew_Point_zscore'] < -3]"
   ]
  },
  {
   "cell_type": "code",
   "execution_count": 69,
   "metadata": {
    "id": "Wkc-GtbnJ7xZ"
   },
   "outputs": [],
   "source": [
    "upper_limit = df['Dew_Point'].mean() + 3*df['Dew_Point'].std()\n",
    "lower_limit = df['Dew_Point'].mean() - 3*df['Dew_Point'].std()"
   ]
  },
  {
   "cell_type": "code",
   "execution_count": 70,
   "metadata": {
    "id": "j1upbMxJKBIT"
   },
   "outputs": [],
   "source": [
    "import numpy as np\n",
    "\n",
    "df['Dew_Point'] = np.where(\n",
    "    df['Dew_Point']>upper_limit,\n",
    "    upper_limit,\n",
    "    np.where(\n",
    "        df['Dew_Point']<lower_limit,\n",
    "        lower_limit,\n",
    "        df['Dew_Point']\n",
    "    )\n",
    ")"
   ]
  },
  {
   "cell_type": "markdown",
   "metadata": {
    "id": "FlZ1v0GbKImz"
   },
   "source": [
    "Tempertaure"
   ]
  },
  {
   "cell_type": "code",
   "execution_count": 71,
   "metadata": {
    "id": "TbiqqbxNKO11"
   },
   "outputs": [],
   "source": [
    "df['Temperature'] = (df['Temperature'] - df['Temperature'].mean())/df['Temperature'].std()"
   ]
  },
  {
   "cell_type": "code",
   "execution_count": 72,
   "metadata": {
    "colab": {
     "base_uri": "https://localhost:8080/",
     "height": 53
    },
    "id": "gUDzknPdKThs",
    "outputId": "ae63986c-b1e6-47b8-b549-599219316378"
   },
   "outputs": [
    {
     "data": {
      "text/html": [
       "<div>\n",
       "<style scoped>\n",
       "    .dataframe tbody tr th:only-of-type {\n",
       "        vertical-align: middle;\n",
       "    }\n",
       "\n",
       "    .dataframe tbody tr th {\n",
       "        vertical-align: top;\n",
       "    }\n",
       "\n",
       "    .dataframe thead th {\n",
       "        text-align: right;\n",
       "    }\n",
       "</style>\n",
       "<table border=\"1\" class=\"dataframe\">\n",
       "  <thead>\n",
       "    <tr style=\"text-align: right;\">\n",
       "      <th></th>\n",
       "      <th>Dew_Point</th>\n",
       "      <th>Temperature</th>\n",
       "      <th>Pressure</th>\n",
       "      <th>Relative_Humidity</th>\n",
       "      <th>Wind_Direction</th>\n",
       "      <th>Wind_Speed</th>\n",
       "      <th>Solar_Radiation</th>\n",
       "      <th>Dew_Point_zscore</th>\n",
       "    </tr>\n",
       "  </thead>\n",
       "  <tbody>\n",
       "  </tbody>\n",
       "</table>\n",
       "</div>"
      ],
      "text/plain": [
       "Empty DataFrame\n",
       "Columns: [Dew_Point, Temperature, Pressure, Relative_Humidity, Wind_Direction, Wind_Speed, Solar_Radiation, Dew_Point_zscore]\n",
       "Index: []"
      ]
     },
     "execution_count": 72,
     "metadata": {},
     "output_type": "execute_result"
    }
   ],
   "source": [
    "df[df['Temperature'] > 3]"
   ]
  },
  {
   "cell_type": "code",
   "execution_count": 73,
   "metadata": {
    "colab": {
     "base_uri": "https://localhost:8080/",
     "height": 53
    },
    "id": "VBWfeQTCKW1u",
    "outputId": "22a3e122-5ba1-4206-daaa-3362bd2a917d"
   },
   "outputs": [
    {
     "data": {
      "text/html": [
       "<div>\n",
       "<style scoped>\n",
       "    .dataframe tbody tr th:only-of-type {\n",
       "        vertical-align: middle;\n",
       "    }\n",
       "\n",
       "    .dataframe tbody tr th {\n",
       "        vertical-align: top;\n",
       "    }\n",
       "\n",
       "    .dataframe thead th {\n",
       "        text-align: right;\n",
       "    }\n",
       "</style>\n",
       "<table border=\"1\" class=\"dataframe\">\n",
       "  <thead>\n",
       "    <tr style=\"text-align: right;\">\n",
       "      <th></th>\n",
       "      <th>Dew_Point</th>\n",
       "      <th>Temperature</th>\n",
       "      <th>Pressure</th>\n",
       "      <th>Relative_Humidity</th>\n",
       "      <th>Wind_Direction</th>\n",
       "      <th>Wind_Speed</th>\n",
       "      <th>Solar_Radiation</th>\n",
       "      <th>Dew_Point_zscore</th>\n",
       "    </tr>\n",
       "  </thead>\n",
       "  <tbody>\n",
       "  </tbody>\n",
       "</table>\n",
       "</div>"
      ],
      "text/plain": [
       "Empty DataFrame\n",
       "Columns: [Dew_Point, Temperature, Pressure, Relative_Humidity, Wind_Direction, Wind_Speed, Solar_Radiation, Dew_Point_zscore]\n",
       "Index: []"
      ]
     },
     "execution_count": 73,
     "metadata": {},
     "output_type": "execute_result"
    }
   ],
   "source": [
    "df[df['Temperature'] < -3]"
   ]
  },
  {
   "cell_type": "markdown",
   "metadata": {
    "id": "C2ZSqB0RKdxI"
   },
   "source": [
    "Pressure"
   ]
  },
  {
   "cell_type": "code",
   "execution_count": 74,
   "metadata": {
    "id": "ukroyQtKKgw8"
   },
   "outputs": [],
   "source": [
    "df['Pressure'] = (df['Pressure'] - df['Pressure'].mean())/df['Pressure'].std()"
   ]
  },
  {
   "cell_type": "code",
   "execution_count": 75,
   "metadata": {
    "colab": {
     "base_uri": "https://localhost:8080/",
     "height": 53
    },
    "id": "TKqHZSXGKoPy",
    "outputId": "658fc041-30fa-4c8e-dce8-c2ef57252911"
   },
   "outputs": [
    {
     "data": {
      "text/html": [
       "<div>\n",
       "<style scoped>\n",
       "    .dataframe tbody tr th:only-of-type {\n",
       "        vertical-align: middle;\n",
       "    }\n",
       "\n",
       "    .dataframe tbody tr th {\n",
       "        vertical-align: top;\n",
       "    }\n",
       "\n",
       "    .dataframe thead th {\n",
       "        text-align: right;\n",
       "    }\n",
       "</style>\n",
       "<table border=\"1\" class=\"dataframe\">\n",
       "  <thead>\n",
       "    <tr style=\"text-align: right;\">\n",
       "      <th></th>\n",
       "      <th>Dew_Point</th>\n",
       "      <th>Temperature</th>\n",
       "      <th>Pressure</th>\n",
       "      <th>Relative_Humidity</th>\n",
       "      <th>Wind_Direction</th>\n",
       "      <th>Wind_Speed</th>\n",
       "      <th>Solar_Radiation</th>\n",
       "      <th>Dew_Point_zscore</th>\n",
       "    </tr>\n",
       "  </thead>\n",
       "  <tbody>\n",
       "  </tbody>\n",
       "</table>\n",
       "</div>"
      ],
      "text/plain": [
       "Empty DataFrame\n",
       "Columns: [Dew_Point, Temperature, Pressure, Relative_Humidity, Wind_Direction, Wind_Speed, Solar_Radiation, Dew_Point_zscore]\n",
       "Index: []"
      ]
     },
     "execution_count": 75,
     "metadata": {},
     "output_type": "execute_result"
    }
   ],
   "source": [
    "df[df['Pressure'] > 3]"
   ]
  },
  {
   "cell_type": "code",
   "execution_count": 76,
   "metadata": {
    "colab": {
     "base_uri": "https://localhost:8080/",
     "height": 53
    },
    "id": "3XQTqU3qKonF",
    "outputId": "75f71413-ef33-405f-cfab-aa2df055de9a"
   },
   "outputs": [
    {
     "data": {
      "text/html": [
       "<div>\n",
       "<style scoped>\n",
       "    .dataframe tbody tr th:only-of-type {\n",
       "        vertical-align: middle;\n",
       "    }\n",
       "\n",
       "    .dataframe tbody tr th {\n",
       "        vertical-align: top;\n",
       "    }\n",
       "\n",
       "    .dataframe thead th {\n",
       "        text-align: right;\n",
       "    }\n",
       "</style>\n",
       "<table border=\"1\" class=\"dataframe\">\n",
       "  <thead>\n",
       "    <tr style=\"text-align: right;\">\n",
       "      <th></th>\n",
       "      <th>Dew_Point</th>\n",
       "      <th>Temperature</th>\n",
       "      <th>Pressure</th>\n",
       "      <th>Relative_Humidity</th>\n",
       "      <th>Wind_Direction</th>\n",
       "      <th>Wind_Speed</th>\n",
       "      <th>Solar_Radiation</th>\n",
       "      <th>Dew_Point_zscore</th>\n",
       "    </tr>\n",
       "  </thead>\n",
       "  <tbody>\n",
       "  </tbody>\n",
       "</table>\n",
       "</div>"
      ],
      "text/plain": [
       "Empty DataFrame\n",
       "Columns: [Dew_Point, Temperature, Pressure, Relative_Humidity, Wind_Direction, Wind_Speed, Solar_Radiation, Dew_Point_zscore]\n",
       "Index: []"
      ]
     },
     "execution_count": 76,
     "metadata": {},
     "output_type": "execute_result"
    }
   ],
   "source": [
    "df[df['Pressure'] < -3]"
   ]
  },
  {
   "cell_type": "markdown",
   "metadata": {
    "id": "rZnq4-DUKxqr"
   },
   "source": [
    "Relative_Humidity"
   ]
  },
  {
   "cell_type": "code",
   "execution_count": 77,
   "metadata": {
    "id": "oay7i0VQKoqs"
   },
   "outputs": [],
   "source": [
    "df['Relative_Humidity'] = (df['Relative_Humidity'] - df['Relative_Humidity'].mean())/df['Relative_Humidity'].std()"
   ]
  },
  {
   "cell_type": "code",
   "execution_count": 78,
   "metadata": {
    "colab": {
     "base_uri": "https://localhost:8080/",
     "height": 53
    },
    "id": "lBKQqkU_K2uO",
    "outputId": "e7f9ef25-4030-474d-85bb-bed391067298"
   },
   "outputs": [
    {
     "data": {
      "text/html": [
       "<div>\n",
       "<style scoped>\n",
       "    .dataframe tbody tr th:only-of-type {\n",
       "        vertical-align: middle;\n",
       "    }\n",
       "\n",
       "    .dataframe tbody tr th {\n",
       "        vertical-align: top;\n",
       "    }\n",
       "\n",
       "    .dataframe thead th {\n",
       "        text-align: right;\n",
       "    }\n",
       "</style>\n",
       "<table border=\"1\" class=\"dataframe\">\n",
       "  <thead>\n",
       "    <tr style=\"text-align: right;\">\n",
       "      <th></th>\n",
       "      <th>Dew_Point</th>\n",
       "      <th>Temperature</th>\n",
       "      <th>Pressure</th>\n",
       "      <th>Relative_Humidity</th>\n",
       "      <th>Wind_Direction</th>\n",
       "      <th>Wind_Speed</th>\n",
       "      <th>Solar_Radiation</th>\n",
       "      <th>Dew_Point_zscore</th>\n",
       "    </tr>\n",
       "  </thead>\n",
       "  <tbody>\n",
       "  </tbody>\n",
       "</table>\n",
       "</div>"
      ],
      "text/plain": [
       "Empty DataFrame\n",
       "Columns: [Dew_Point, Temperature, Pressure, Relative_Humidity, Wind_Direction, Wind_Speed, Solar_Radiation, Dew_Point_zscore]\n",
       "Index: []"
      ]
     },
     "execution_count": 78,
     "metadata": {},
     "output_type": "execute_result"
    }
   ],
   "source": [
    "df[df['Relative_Humidity'] > 3]"
   ]
  },
  {
   "cell_type": "code",
   "execution_count": 79,
   "metadata": {
    "colab": {
     "base_uri": "https://localhost:8080/",
     "height": 53
    },
    "id": "kViV4TkFK4gf",
    "outputId": "73945575-8adb-46d7-b983-3b54e543ef7f"
   },
   "outputs": [
    {
     "data": {
      "text/html": [
       "<div>\n",
       "<style scoped>\n",
       "    .dataframe tbody tr th:only-of-type {\n",
       "        vertical-align: middle;\n",
       "    }\n",
       "\n",
       "    .dataframe tbody tr th {\n",
       "        vertical-align: top;\n",
       "    }\n",
       "\n",
       "    .dataframe thead th {\n",
       "        text-align: right;\n",
       "    }\n",
       "</style>\n",
       "<table border=\"1\" class=\"dataframe\">\n",
       "  <thead>\n",
       "    <tr style=\"text-align: right;\">\n",
       "      <th></th>\n",
       "      <th>Dew_Point</th>\n",
       "      <th>Temperature</th>\n",
       "      <th>Pressure</th>\n",
       "      <th>Relative_Humidity</th>\n",
       "      <th>Wind_Direction</th>\n",
       "      <th>Wind_Speed</th>\n",
       "      <th>Solar_Radiation</th>\n",
       "      <th>Dew_Point_zscore</th>\n",
       "    </tr>\n",
       "  </thead>\n",
       "  <tbody>\n",
       "  </tbody>\n",
       "</table>\n",
       "</div>"
      ],
      "text/plain": [
       "Empty DataFrame\n",
       "Columns: [Dew_Point, Temperature, Pressure, Relative_Humidity, Wind_Direction, Wind_Speed, Solar_Radiation, Dew_Point_zscore]\n",
       "Index: []"
      ]
     },
     "execution_count": 79,
     "metadata": {},
     "output_type": "execute_result"
    }
   ],
   "source": [
    "df[df['Relative_Humidity'] < -3]"
   ]
  },
  {
   "cell_type": "markdown",
   "metadata": {
    "id": "RKUnZRViLBUv"
   },
   "source": [
    "Wind_Direction"
   ]
  },
  {
   "cell_type": "code",
   "execution_count": 80,
   "metadata": {
    "id": "5dUH13u7LFQQ"
   },
   "outputs": [],
   "source": [
    "df['Wind_Direction'] = (df['Wind_Direction'] - df['Wind_Direction'].mean())/df['Wind_Direction'].std()"
   ]
  },
  {
   "cell_type": "code",
   "execution_count": 81,
   "metadata": {
    "colab": {
     "base_uri": "https://localhost:8080/",
     "height": 53
    },
    "id": "GuHu7dhdLFXi",
    "outputId": "392ee57d-4054-4302-cab3-b956a58a6d83"
   },
   "outputs": [
    {
     "data": {
      "text/html": [
       "<div>\n",
       "<style scoped>\n",
       "    .dataframe tbody tr th:only-of-type {\n",
       "        vertical-align: middle;\n",
       "    }\n",
       "\n",
       "    .dataframe tbody tr th {\n",
       "        vertical-align: top;\n",
       "    }\n",
       "\n",
       "    .dataframe thead th {\n",
       "        text-align: right;\n",
       "    }\n",
       "</style>\n",
       "<table border=\"1\" class=\"dataframe\">\n",
       "  <thead>\n",
       "    <tr style=\"text-align: right;\">\n",
       "      <th></th>\n",
       "      <th>Dew_Point</th>\n",
       "      <th>Temperature</th>\n",
       "      <th>Pressure</th>\n",
       "      <th>Relative_Humidity</th>\n",
       "      <th>Wind_Direction</th>\n",
       "      <th>Wind_Speed</th>\n",
       "      <th>Solar_Radiation</th>\n",
       "      <th>Dew_Point_zscore</th>\n",
       "    </tr>\n",
       "  </thead>\n",
       "  <tbody>\n",
       "  </tbody>\n",
       "</table>\n",
       "</div>"
      ],
      "text/plain": [
       "Empty DataFrame\n",
       "Columns: [Dew_Point, Temperature, Pressure, Relative_Humidity, Wind_Direction, Wind_Speed, Solar_Radiation, Dew_Point_zscore]\n",
       "Index: []"
      ]
     },
     "execution_count": 81,
     "metadata": {},
     "output_type": "execute_result"
    }
   ],
   "source": [
    "df[df['Wind_Direction'] > 3]"
   ]
  },
  {
   "cell_type": "code",
   "execution_count": 82,
   "metadata": {
    "colab": {
     "base_uri": "https://localhost:8080/",
     "height": 53
    },
    "id": "qtc7OKerLFfm",
    "outputId": "fba8ce2f-71fc-41f2-e35a-589ab056f587"
   },
   "outputs": [
    {
     "data": {
      "text/html": [
       "<div>\n",
       "<style scoped>\n",
       "    .dataframe tbody tr th:only-of-type {\n",
       "        vertical-align: middle;\n",
       "    }\n",
       "\n",
       "    .dataframe tbody tr th {\n",
       "        vertical-align: top;\n",
       "    }\n",
       "\n",
       "    .dataframe thead th {\n",
       "        text-align: right;\n",
       "    }\n",
       "</style>\n",
       "<table border=\"1\" class=\"dataframe\">\n",
       "  <thead>\n",
       "    <tr style=\"text-align: right;\">\n",
       "      <th></th>\n",
       "      <th>Dew_Point</th>\n",
       "      <th>Temperature</th>\n",
       "      <th>Pressure</th>\n",
       "      <th>Relative_Humidity</th>\n",
       "      <th>Wind_Direction</th>\n",
       "      <th>Wind_Speed</th>\n",
       "      <th>Solar_Radiation</th>\n",
       "      <th>Dew_Point_zscore</th>\n",
       "    </tr>\n",
       "  </thead>\n",
       "  <tbody>\n",
       "  </tbody>\n",
       "</table>\n",
       "</div>"
      ],
      "text/plain": [
       "Empty DataFrame\n",
       "Columns: [Dew_Point, Temperature, Pressure, Relative_Humidity, Wind_Direction, Wind_Speed, Solar_Radiation, Dew_Point_zscore]\n",
       "Index: []"
      ]
     },
     "execution_count": 82,
     "metadata": {},
     "output_type": "execute_result"
    }
   ],
   "source": [
    "df[df['Wind_Direction'] < -3]"
   ]
  },
  {
   "cell_type": "markdown",
   "metadata": {
    "id": "cIHyhZHKLO7S"
   },
   "source": [
    "Wind_Speed"
   ]
  },
  {
   "cell_type": "code",
   "execution_count": 83,
   "metadata": {
    "id": "LTAE5P_oLSw7"
   },
   "outputs": [],
   "source": [
    "df['Wind_Speed'] = (df['Wind_Speed'] - df['Wind_Speed'].mean())/df['Wind_Speed'].std()"
   ]
  },
  {
   "cell_type": "code",
   "execution_count": 84,
   "metadata": {
    "colab": {
     "base_uri": "https://localhost:8080/",
     "height": 1000
    },
    "id": "8RXbEMeqLS5A",
    "outputId": "85745574-02ee-45c8-8635-8f2dc1ff79a7"
   },
   "outputs": [
    {
     "data": {
      "text/html": [
       "<div>\n",
       "<style scoped>\n",
       "    .dataframe tbody tr th:only-of-type {\n",
       "        vertical-align: middle;\n",
       "    }\n",
       "\n",
       "    .dataframe tbody tr th {\n",
       "        vertical-align: top;\n",
       "    }\n",
       "\n",
       "    .dataframe thead th {\n",
       "        text-align: right;\n",
       "    }\n",
       "</style>\n",
       "<table border=\"1\" class=\"dataframe\">\n",
       "  <thead>\n",
       "    <tr style=\"text-align: right;\">\n",
       "      <th></th>\n",
       "      <th>Dew_Point</th>\n",
       "      <th>Temperature</th>\n",
       "      <th>Pressure</th>\n",
       "      <th>Relative_Humidity</th>\n",
       "      <th>Wind_Direction</th>\n",
       "      <th>Wind_Speed</th>\n",
       "      <th>Solar_Radiation</th>\n",
       "      <th>Dew_Point_zscore</th>\n",
       "    </tr>\n",
       "  </thead>\n",
       "  <tbody>\n",
       "    <tr>\n",
       "      <th>3627</th>\n",
       "      <td>20.0</td>\n",
       "      <td>0.360318</td>\n",
       "      <td>-1.534187</td>\n",
       "      <td>0.403194</td>\n",
       "      <td>0.401491</td>\n",
       "      <td>3.042355</td>\n",
       "      <td>0</td>\n",
       "      <td>0.794901</td>\n",
       "    </tr>\n",
       "    <tr>\n",
       "      <th>3628</th>\n",
       "      <td>21.0</td>\n",
       "      <td>0.238867</td>\n",
       "      <td>-1.444773</td>\n",
       "      <td>0.600444</td>\n",
       "      <td>0.390862</td>\n",
       "      <td>3.165932</td>\n",
       "      <td>0</td>\n",
       "      <td>0.887065</td>\n",
       "    </tr>\n",
       "    <tr>\n",
       "      <th>3629</th>\n",
       "      <td>21.0</td>\n",
       "      <td>0.139739</td>\n",
       "      <td>-1.356104</td>\n",
       "      <td>0.776161</td>\n",
       "      <td>0.378658</td>\n",
       "      <td>3.271939</td>\n",
       "      <td>0</td>\n",
       "      <td>0.887065</td>\n",
       "    </tr>\n",
       "    <tr>\n",
       "      <th>3630</th>\n",
       "      <td>21.0</td>\n",
       "      <td>0.194912</td>\n",
       "      <td>-1.232530</td>\n",
       "      <td>0.730392</td>\n",
       "      <td>0.374604</td>\n",
       "      <td>3.558873</td>\n",
       "      <td>42</td>\n",
       "      <td>0.887065</td>\n",
       "    </tr>\n",
       "    <tr>\n",
       "      <th>3631</th>\n",
       "      <td>21.0</td>\n",
       "      <td>0.364350</td>\n",
       "      <td>-1.193851</td>\n",
       "      <td>0.499909</td>\n",
       "      <td>0.379014</td>\n",
       "      <td>3.734764</td>\n",
       "      <td>222</td>\n",
       "      <td>0.887065</td>\n",
       "    </tr>\n",
       "    <tr>\n",
       "      <th>3632</th>\n",
       "      <td>20.0</td>\n",
       "      <td>0.662434</td>\n",
       "      <td>-1.145605</td>\n",
       "      <td>0.112437</td>\n",
       "      <td>0.385750</td>\n",
       "      <td>3.525796</td>\n",
       "      <td>421</td>\n",
       "      <td>0.794901</td>\n",
       "    </tr>\n",
       "    <tr>\n",
       "      <th>3633</th>\n",
       "      <td>20.0</td>\n",
       "      <td>0.987622</td>\n",
       "      <td>-1.132164</td>\n",
       "      <td>-0.239225</td>\n",
       "      <td>0.395465</td>\n",
       "      <td>3.213732</td>\n",
       "      <td>611</td>\n",
       "      <td>0.794901</td>\n",
       "    </tr>\n",
       "    <tr>\n",
       "      <th>3804</th>\n",
       "      <td>15.0</td>\n",
       "      <td>2.288734</td>\n",
       "      <td>-1.579288</td>\n",
       "      <td>-1.155769</td>\n",
       "      <td>0.669184</td>\n",
       "      <td>3.076972</td>\n",
       "      <td>914</td>\n",
       "      <td>0.334080</td>\n",
       "    </tr>\n",
       "    <tr>\n",
       "      <th>3805</th>\n",
       "      <td>14.0</td>\n",
       "      <td>2.371011</td>\n",
       "      <td>-1.789579</td>\n",
       "      <td>-1.206396</td>\n",
       "      <td>0.706010</td>\n",
       "      <td>3.262137</td>\n",
       "      <td>888</td>\n",
       "      <td>0.241915</td>\n",
       "    </tr>\n",
       "    <tr>\n",
       "      <th>3806</th>\n",
       "      <td>13.0</td>\n",
       "      <td>2.387872</td>\n",
       "      <td>-1.914158</td>\n",
       "      <td>-1.233803</td>\n",
       "      <td>0.718509</td>\n",
       "      <td>3.329417</td>\n",
       "      <td>795</td>\n",
       "      <td>0.149751</td>\n",
       "    </tr>\n",
       "    <tr>\n",
       "      <th>3807</th>\n",
       "      <td>13.0</td>\n",
       "      <td>2.326921</td>\n",
       "      <td>-1.976214</td>\n",
       "      <td>-1.234462</td>\n",
       "      <td>0.724762</td>\n",
       "      <td>3.337058</td>\n",
       "      <td>648</td>\n",
       "      <td>0.149751</td>\n",
       "    </tr>\n",
       "    <tr>\n",
       "      <th>3808</th>\n",
       "      <td>12.0</td>\n",
       "      <td>2.195438</td>\n",
       "      <td>-1.959577</td>\n",
       "      <td>-1.212350</td>\n",
       "      <td>0.729667</td>\n",
       "      <td>3.299193</td>\n",
       "      <td>464</td>\n",
       "      <td>0.057587</td>\n",
       "    </tr>\n",
       "    <tr>\n",
       "      <th>3809</th>\n",
       "      <td>13.0</td>\n",
       "      <td>2.006187</td>\n",
       "      <td>-1.894206</td>\n",
       "      <td>-1.161730</td>\n",
       "      <td>0.721143</td>\n",
       "      <td>3.197316</td>\n",
       "      <td>256</td>\n",
       "      <td>0.149751</td>\n",
       "    </tr>\n",
       "    <tr>\n",
       "      <th>3820</th>\n",
       "      <td>19.0</td>\n",
       "      <td>0.593734</td>\n",
       "      <td>-1.717647</td>\n",
       "      <td>0.039337</td>\n",
       "      <td>0.526521</td>\n",
       "      <td>3.072790</td>\n",
       "      <td>0</td>\n",
       "      <td>0.702736</td>\n",
       "    </tr>\n",
       "    <tr>\n",
       "      <th>3821</th>\n",
       "      <td>20.0</td>\n",
       "      <td>0.507046</td>\n",
       "      <td>-1.544910</td>\n",
       "      <td>0.189979</td>\n",
       "      <td>0.542053</td>\n",
       "      <td>3.158019</td>\n",
       "      <td>0</td>\n",
       "      <td>0.794901</td>\n",
       "    </tr>\n",
       "    <tr>\n",
       "      <th>3822</th>\n",
       "      <td>20.0</td>\n",
       "      <td>0.578653</td>\n",
       "      <td>-1.418230</td>\n",
       "      <td>0.171063</td>\n",
       "      <td>0.555131</td>\n",
       "      <td>3.090481</td>\n",
       "      <td>43</td>\n",
       "      <td>0.794901</td>\n",
       "    </tr>\n",
       "    <tr>\n",
       "      <th>3823</th>\n",
       "      <td>20.0</td>\n",
       "      <td>0.792221</td>\n",
       "      <td>-1.330906</td>\n",
       "      <td>-0.017728</td>\n",
       "      <td>0.567490</td>\n",
       "      <td>3.092970</td>\n",
       "      <td>213</td>\n",
       "      <td>0.794901</td>\n",
       "    </tr>\n",
       "    <tr>\n",
       "      <th>3838</th>\n",
       "      <td>19.0</td>\n",
       "      <td>1.170735</td>\n",
       "      <td>-1.522121</td>\n",
       "      <td>-0.446386</td>\n",
       "      <td>0.368205</td>\n",
       "      <td>3.161673</td>\n",
       "      <td>0</td>\n",
       "      <td>0.702736</td>\n",
       "    </tr>\n",
       "    <tr>\n",
       "      <th>3839</th>\n",
       "      <td>19.0</td>\n",
       "      <td>1.029476</td>\n",
       "      <td>-1.533042</td>\n",
       "      <td>-0.284965</td>\n",
       "      <td>0.385594</td>\n",
       "      <td>3.088849</td>\n",
       "      <td>0</td>\n",
       "      <td>0.702736</td>\n",
       "    </tr>\n",
       "    <tr>\n",
       "      <th>3865</th>\n",
       "      <td>22.0</td>\n",
       "      <td>0.712754</td>\n",
       "      <td>-1.640786</td>\n",
       "      <td>0.193006</td>\n",
       "      <td>0.373961</td>\n",
       "      <td>3.085106</td>\n",
       "      <td>0</td>\n",
       "      <td>0.979229</td>\n",
       "    </tr>\n",
       "    <tr>\n",
       "      <th>3866</th>\n",
       "      <td>22.0</td>\n",
       "      <td>0.600081</td>\n",
       "      <td>-1.628242</td>\n",
       "      <td>0.381360</td>\n",
       "      <td>0.391548</td>\n",
       "      <td>3.086099</td>\n",
       "      <td>0</td>\n",
       "      <td>0.979229</td>\n",
       "    </tr>\n",
       "    <tr>\n",
       "      <th>3867</th>\n",
       "      <td>22.0</td>\n",
       "      <td>0.506424</td>\n",
       "      <td>-1.555712</td>\n",
       "      <td>0.505509</td>\n",
       "      <td>0.417395</td>\n",
       "      <td>3.000658</td>\n",
       "      <td>0</td>\n",
       "      <td>0.979229</td>\n",
       "    </tr>\n",
       "    <tr>\n",
       "      <th>3984</th>\n",
       "      <td>21.0</td>\n",
       "      <td>0.464616</td>\n",
       "      <td>-1.258247</td>\n",
       "      <td>0.406871</td>\n",
       "      <td>0.408920</td>\n",
       "      <td>3.174850</td>\n",
       "      <td>0</td>\n",
       "      <td>0.887065</td>\n",
       "    </tr>\n",
       "    <tr>\n",
       "      <th>3985</th>\n",
       "      <td>22.0</td>\n",
       "      <td>0.361917</td>\n",
       "      <td>-1.325430</td>\n",
       "      <td>0.622334</td>\n",
       "      <td>0.421970</td>\n",
       "      <td>3.332269</td>\n",
       "      <td>0</td>\n",
       "      <td>0.979229</td>\n",
       "    </tr>\n",
       "    <tr>\n",
       "      <th>3986</th>\n",
       "      <td>23.0</td>\n",
       "      <td>0.263220</td>\n",
       "      <td>-1.389457</td>\n",
       "      <td>0.871933</td>\n",
       "      <td>0.426777</td>\n",
       "      <td>3.276753</td>\n",
       "      <td>0</td>\n",
       "      <td>1.071393</td>\n",
       "    </tr>\n",
       "    <tr>\n",
       "      <th>3987</th>\n",
       "      <td>23.0</td>\n",
       "      <td>0.188379</td>\n",
       "      <td>-1.379909</td>\n",
       "      <td>1.043407</td>\n",
       "      <td>0.429262</td>\n",
       "      <td>3.083217</td>\n",
       "      <td>0</td>\n",
       "      <td>1.071393</td>\n",
       "    </tr>\n",
       "    <tr>\n",
       "      <th>3990</th>\n",
       "      <td>23.0</td>\n",
       "      <td>0.260525</td>\n",
       "      <td>-1.293611</td>\n",
       "      <td>0.921580</td>\n",
       "      <td>0.470513</td>\n",
       "      <td>3.052830</td>\n",
       "      <td>35</td>\n",
       "      <td>1.071393</td>\n",
       "    </tr>\n",
       "    <tr>\n",
       "      <th>3991</th>\n",
       "      <td>23.0</td>\n",
       "      <td>0.439549</td>\n",
       "      <td>-1.237757</td>\n",
       "      <td>0.689565</td>\n",
       "      <td>0.472732</td>\n",
       "      <td>3.124212</td>\n",
       "      <td>215</td>\n",
       "      <td>1.071393</td>\n",
       "    </tr>\n",
       "    <tr>\n",
       "      <th>11585</th>\n",
       "      <td>6.0</td>\n",
       "      <td>1.181234</td>\n",
       "      <td>-0.922132</td>\n",
       "      <td>-1.198937</td>\n",
       "      <td>0.917329</td>\n",
       "      <td>3.032309</td>\n",
       "      <td>246</td>\n",
       "      <td>-0.495399</td>\n",
       "    </tr>\n",
       "    <tr>\n",
       "      <th>12433</th>\n",
       "      <td>18.0</td>\n",
       "      <td>0.681168</td>\n",
       "      <td>-1.490451</td>\n",
       "      <td>-0.206360</td>\n",
       "      <td>0.472027</td>\n",
       "      <td>3.223492</td>\n",
       "      <td>0</td>\n",
       "      <td>0.610572</td>\n",
       "    </tr>\n",
       "    <tr>\n",
       "      <th>12982</th>\n",
       "      <td>19.0</td>\n",
       "      <td>0.900414</td>\n",
       "      <td>-1.258167</td>\n",
       "      <td>-0.259208</td>\n",
       "      <td>0.420869</td>\n",
       "      <td>3.155066</td>\n",
       "      <td>0</td>\n",
       "      <td>0.702736</td>\n",
       "    </tr>\n",
       "    <tr>\n",
       "      <th>12983</th>\n",
       "      <td>20.0</td>\n",
       "      <td>0.780269</td>\n",
       "      <td>-1.301446</td>\n",
       "      <td>-0.076768</td>\n",
       "      <td>0.426725</td>\n",
       "      <td>3.537968</td>\n",
       "      <td>0</td>\n",
       "      <td>0.794901</td>\n",
       "    </tr>\n",
       "    <tr>\n",
       "      <th>12984</th>\n",
       "      <td>20.0</td>\n",
       "      <td>0.645462</td>\n",
       "      <td>-1.334161</td>\n",
       "      <td>0.115167</td>\n",
       "      <td>0.436998</td>\n",
       "      <td>3.603002</td>\n",
       "      <td>0</td>\n",
       "      <td>0.794901</td>\n",
       "    </tr>\n",
       "    <tr>\n",
       "      <th>12985</th>\n",
       "      <td>21.0</td>\n",
       "      <td>0.513386</td>\n",
       "      <td>-1.361720</td>\n",
       "      <td>0.290492</td>\n",
       "      <td>0.447038</td>\n",
       "      <td>3.529305</td>\n",
       "      <td>0</td>\n",
       "      <td>0.887065</td>\n",
       "    </tr>\n",
       "    <tr>\n",
       "      <th>12986</th>\n",
       "      <td>21.0</td>\n",
       "      <td>0.390340</td>\n",
       "      <td>-1.347263</td>\n",
       "      <td>0.455558</td>\n",
       "      <td>0.454120</td>\n",
       "      <td>3.352754</td>\n",
       "      <td>0</td>\n",
       "      <td>0.887065</td>\n",
       "    </tr>\n",
       "    <tr>\n",
       "      <th>12987</th>\n",
       "      <td>21.0</td>\n",
       "      <td>0.290400</td>\n",
       "      <td>-1.299176</td>\n",
       "      <td>0.597839</td>\n",
       "      <td>0.468871</td>\n",
       "      <td>3.068046</td>\n",
       "      <td>0</td>\n",
       "      <td>0.887065</td>\n",
       "    </tr>\n",
       "    <tr>\n",
       "      <th>13417</th>\n",
       "      <td>23.0</td>\n",
       "      <td>0.094556</td>\n",
       "      <td>-1.387366</td>\n",
       "      <td>1.142427</td>\n",
       "      <td>0.404583</td>\n",
       "      <td>3.029251</td>\n",
       "      <td>0</td>\n",
       "      <td>1.071393</td>\n",
       "    </tr>\n",
       "  </tbody>\n",
       "</table>\n",
       "</div>"
      ],
      "text/plain": [
       "       Dew_Point  Temperature  Pressure  Relative_Humidity  Wind_Direction  \\\n",
       "3627        20.0     0.360318 -1.534187           0.403194        0.401491   \n",
       "3628        21.0     0.238867 -1.444773           0.600444        0.390862   \n",
       "3629        21.0     0.139739 -1.356104           0.776161        0.378658   \n",
       "3630        21.0     0.194912 -1.232530           0.730392        0.374604   \n",
       "3631        21.0     0.364350 -1.193851           0.499909        0.379014   \n",
       "3632        20.0     0.662434 -1.145605           0.112437        0.385750   \n",
       "3633        20.0     0.987622 -1.132164          -0.239225        0.395465   \n",
       "3804        15.0     2.288734 -1.579288          -1.155769        0.669184   \n",
       "3805        14.0     2.371011 -1.789579          -1.206396        0.706010   \n",
       "3806        13.0     2.387872 -1.914158          -1.233803        0.718509   \n",
       "3807        13.0     2.326921 -1.976214          -1.234462        0.724762   \n",
       "3808        12.0     2.195438 -1.959577          -1.212350        0.729667   \n",
       "3809        13.0     2.006187 -1.894206          -1.161730        0.721143   \n",
       "3820        19.0     0.593734 -1.717647           0.039337        0.526521   \n",
       "3821        20.0     0.507046 -1.544910           0.189979        0.542053   \n",
       "3822        20.0     0.578653 -1.418230           0.171063        0.555131   \n",
       "3823        20.0     0.792221 -1.330906          -0.017728        0.567490   \n",
       "3838        19.0     1.170735 -1.522121          -0.446386        0.368205   \n",
       "3839        19.0     1.029476 -1.533042          -0.284965        0.385594   \n",
       "3865        22.0     0.712754 -1.640786           0.193006        0.373961   \n",
       "3866        22.0     0.600081 -1.628242           0.381360        0.391548   \n",
       "3867        22.0     0.506424 -1.555712           0.505509        0.417395   \n",
       "3984        21.0     0.464616 -1.258247           0.406871        0.408920   \n",
       "3985        22.0     0.361917 -1.325430           0.622334        0.421970   \n",
       "3986        23.0     0.263220 -1.389457           0.871933        0.426777   \n",
       "3987        23.0     0.188379 -1.379909           1.043407        0.429262   \n",
       "3990        23.0     0.260525 -1.293611           0.921580        0.470513   \n",
       "3991        23.0     0.439549 -1.237757           0.689565        0.472732   \n",
       "11585        6.0     1.181234 -0.922132          -1.198937        0.917329   \n",
       "12433       18.0     0.681168 -1.490451          -0.206360        0.472027   \n",
       "12982       19.0     0.900414 -1.258167          -0.259208        0.420869   \n",
       "12983       20.0     0.780269 -1.301446          -0.076768        0.426725   \n",
       "12984       20.0     0.645462 -1.334161           0.115167        0.436998   \n",
       "12985       21.0     0.513386 -1.361720           0.290492        0.447038   \n",
       "12986       21.0     0.390340 -1.347263           0.455558        0.454120   \n",
       "12987       21.0     0.290400 -1.299176           0.597839        0.468871   \n",
       "13417       23.0     0.094556 -1.387366           1.142427        0.404583   \n",
       "\n",
       "       Wind_Speed  Solar_Radiation  Dew_Point_zscore  \n",
       "3627     3.042355                0          0.794901  \n",
       "3628     3.165932                0          0.887065  \n",
       "3629     3.271939                0          0.887065  \n",
       "3630     3.558873               42          0.887065  \n",
       "3631     3.734764              222          0.887065  \n",
       "3632     3.525796              421          0.794901  \n",
       "3633     3.213732              611          0.794901  \n",
       "3804     3.076972              914          0.334080  \n",
       "3805     3.262137              888          0.241915  \n",
       "3806     3.329417              795          0.149751  \n",
       "3807     3.337058              648          0.149751  \n",
       "3808     3.299193              464          0.057587  \n",
       "3809     3.197316              256          0.149751  \n",
       "3820     3.072790                0          0.702736  \n",
       "3821     3.158019                0          0.794901  \n",
       "3822     3.090481               43          0.794901  \n",
       "3823     3.092970              213          0.794901  \n",
       "3838     3.161673                0          0.702736  \n",
       "3839     3.088849                0          0.702736  \n",
       "3865     3.085106                0          0.979229  \n",
       "3866     3.086099                0          0.979229  \n",
       "3867     3.000658                0          0.979229  \n",
       "3984     3.174850                0          0.887065  \n",
       "3985     3.332269                0          0.979229  \n",
       "3986     3.276753                0          1.071393  \n",
       "3987     3.083217                0          1.071393  \n",
       "3990     3.052830               35          1.071393  \n",
       "3991     3.124212              215          1.071393  \n",
       "11585    3.032309              246         -0.495399  \n",
       "12433    3.223492                0          0.610572  \n",
       "12982    3.155066                0          0.702736  \n",
       "12983    3.537968                0          0.794901  \n",
       "12984    3.603002                0          0.794901  \n",
       "12985    3.529305                0          0.887065  \n",
       "12986    3.352754                0          0.887065  \n",
       "12987    3.068046                0          0.887065  \n",
       "13417    3.029251                0          1.071393  "
      ]
     },
     "execution_count": 84,
     "metadata": {},
     "output_type": "execute_result"
    }
   ],
   "source": [
    "df[df['Wind_Speed'] > 3]"
   ]
  },
  {
   "cell_type": "code",
   "execution_count": 85,
   "metadata": {
    "colab": {
     "base_uri": "https://localhost:8080/",
     "height": 53
    },
    "id": "Y9f8qEKtLTAi",
    "outputId": "8416cbc5-5a74-4970-b918-9c68a90a6214"
   },
   "outputs": [
    {
     "data": {
      "text/html": [
       "<div>\n",
       "<style scoped>\n",
       "    .dataframe tbody tr th:only-of-type {\n",
       "        vertical-align: middle;\n",
       "    }\n",
       "\n",
       "    .dataframe tbody tr th {\n",
       "        vertical-align: top;\n",
       "    }\n",
       "\n",
       "    .dataframe thead th {\n",
       "        text-align: right;\n",
       "    }\n",
       "</style>\n",
       "<table border=\"1\" class=\"dataframe\">\n",
       "  <thead>\n",
       "    <tr style=\"text-align: right;\">\n",
       "      <th></th>\n",
       "      <th>Dew_Point</th>\n",
       "      <th>Temperature</th>\n",
       "      <th>Pressure</th>\n",
       "      <th>Relative_Humidity</th>\n",
       "      <th>Wind_Direction</th>\n",
       "      <th>Wind_Speed</th>\n",
       "      <th>Solar_Radiation</th>\n",
       "      <th>Dew_Point_zscore</th>\n",
       "    </tr>\n",
       "  </thead>\n",
       "  <tbody>\n",
       "  </tbody>\n",
       "</table>\n",
       "</div>"
      ],
      "text/plain": [
       "Empty DataFrame\n",
       "Columns: [Dew_Point, Temperature, Pressure, Relative_Humidity, Wind_Direction, Wind_Speed, Solar_Radiation, Dew_Point_zscore]\n",
       "Index: []"
      ]
     },
     "execution_count": 85,
     "metadata": {},
     "output_type": "execute_result"
    }
   ],
   "source": [
    "df[df['Wind_Speed'] < -3]"
   ]
  },
  {
   "cell_type": "code",
   "execution_count": 86,
   "metadata": {
    "id": "ENiekv4QLhW6"
   },
   "outputs": [],
   "source": [
    "upper_limit_s = df['Dew_Point'].mean() + 3*df['Dew_Point'].std()\n",
    "lower_limit_s = df['Dew_Point'].mean() - 3*df['Dew_Point'].std()"
   ]
  },
  {
   "cell_type": "code",
   "execution_count": 87,
   "metadata": {
    "id": "u0qXGp60Lmm1"
   },
   "outputs": [],
   "source": [
    "import numpy as np\n",
    "\n",
    "df['Dew_Point'] = np.where(\n",
    "    df['Dew_Point']>upper_limit_s,\n",
    "    upper_limit_s,\n",
    "    np.where(\n",
    "        df['Dew_Point']<lower_limit_s,\n",
    "        lower_limit_s,\n",
    "        df['Dew_Point']\n",
    "    )\n",
    ")"
   ]
  },
  {
   "cell_type": "code",
   "execution_count": 88,
   "metadata": {
    "colab": {
     "base_uri": "https://localhost:8080/"
    },
    "id": "QhdRP0WXOZhj",
    "outputId": "983c2025-79dd-4f3c-98e4-4465820ea1aa"
   },
   "outputs": [
    {
     "name": "stdout",
     "output_type": "stream",
     "text": [
      "Correlation between Solar Radiation and Dew Point : -0.026853444221893917\n",
      "Correlation between Solar Radiation and Temperature : 0.576115709456914\n",
      "Correlation between Solar Radiation and Pressure : -0.0604229795966614\n",
      "Correlation between Solar Radiation and Relative Humidity : -0.3662862234430861\n",
      "Correlation between Solar Radiation and Wind Direction : 0.16787823058627002\n",
      "Correlation between Solar Radiation and Wind Speed : -0.13654354231825544\n"
     ]
    }
   ],
   "source": [
    "correlation_dew_point = df['Solar_Radiation'].corr(df['Dew_Point'])\n",
    "\n",
    "correlation_temp = df['Solar_Radiation'].corr(df['Temperature'])\n",
    "\n",
    "correlation_pressure = df['Solar_Radiation'].corr(df['Pressure'])\n",
    "\n",
    "correlation_relative_hum = df['Solar_Radiation'].corr(df['Relative_Humidity'])\n",
    "\n",
    "correlation_wind_dir = df['Solar_Radiation'].corr(df['Wind_Direction'])\n",
    "\n",
    "correlation_wind_speed = df['Solar_Radiation'].corr(df['Wind_Speed'])\n",
    "\n",
    "print(f\"Correlation between Solar Radiation and Dew Point : {correlation_dew_point}\")\n",
    "print(f\"Correlation between Solar Radiation and Temperature : {correlation_temp}\")\n",
    "print(f\"Correlation between Solar Radiation and Pressure : {correlation_pressure}\")\n",
    "print(f\"Correlation between Solar Radiation and Relative Humidity : {correlation_relative_hum}\")\n",
    "print(f\"Correlation between Solar Radiation and Wind Direction : {correlation_wind_dir}\")\n",
    "print(f\"Correlation between Solar Radiation and Wind Speed : {correlation_wind_speed}\")\n"
   ]
  },
  {
   "cell_type": "code",
   "execution_count": 89,
   "metadata": {
    "id": "MpOpj31gGFfg"
   },
   "outputs": [],
   "source": [
    "X = df[['Temperature','Wind_Direction','Dew_Point','Pressure','Wind_Speed','Relative_Humidity']]\n",
    "y = df['Solar_Radiation']"
   ]
  },
  {
   "cell_type": "code",
   "execution_count": 90,
   "metadata": {
    "colab": {
     "base_uri": "https://localhost:8080/",
     "height": 445
    },
    "id": "MwqrxLpsD8Hk",
    "outputId": "22daa285-b190-4706-daaa-f946f0a4f2ca"
   },
   "outputs": [
    {
     "name": "stdout",
     "output_type": "stream",
     "text": [
      "Shapiro-Wilk Test: Statistics=0.957, p=0.000\n",
      "Probably not Gaussian (reject H0)\n"
     ]
    },
    {
     "data": {
      "image/png": "[encoded data removed]",
      "text/plain": [
       "<Figure size 600x400 with 1 Axes>"
      ]
     },
     "metadata": {},
     "output_type": "display_data"
    }
   ],
   "source": [
    "check_normality(df['Relative_Humidity'])"
   ]
  },
  {
   "cell_type": "code",
   "execution_count": 91,
   "metadata": {
    "colab": {
     "base_uri": "https://localhost:8080/",
     "height": 445
    },
    "id": "-eP0EFW9FF82",
    "outputId": "a84273d8-3aac-4c03-a61b-0bf6af366fee"
   },
   "outputs": [
    {
     "name": "stdout",
     "output_type": "stream",
     "text": [
      "Shapiro-Wilk Test: Statistics=0.960, p=0.000\n",
      "Probably not Gaussian (reject H0)\n"
     ]
    },
    {
     "data": {
      "image/png": "[encoded data removed]",
      "text/plain": [
       "<Figure size 600x400 with 1 Axes>"
      ]
     },
     "metadata": {},
     "output_type": "display_data"
    }
   ],
   "source": [
    "check_normality(df['Pressure'])"
   ]
  },
  {
   "cell_type": "code",
   "execution_count": 92,
   "metadata": {
    "colab": {
     "base_uri": "https://localhost:8080/",
     "height": 445
    },
    "id": "v-x4FGiFFIQ0",
    "outputId": "7b50a306-6fa0-48a5-b13f-878a8df2a2fc"
   },
   "outputs": [
    {
     "name": "stdout",
     "output_type": "stream",
     "text": [
      "Shapiro-Wilk Test: Statistics=0.957, p=0.000\n",
      "Probably not Gaussian (reject H0)\n"
     ]
    },
    {
     "data": {
      "image/png": "[encoded data removed]",
      "text/plain": [
       "<Figure size 600x400 with 1 Axes>"
      ]
     },
     "metadata": {},
     "output_type": "display_data"
    }
   ],
   "source": [
    "check_normality(df['Relative_Humidity'])"
   ]
  },
  {
   "cell_type": "code",
   "execution_count": 93,
   "metadata": {
    "colab": {
     "base_uri": "https://localhost:8080/",
     "height": 445
    },
    "id": "HPqsWd_UFM4p",
    "outputId": "20048fc3-04de-4dca-aa97-964556f92b3a"
   },
   "outputs": [
    {
     "name": "stdout",
     "output_type": "stream",
     "text": [
      "Shapiro-Wilk Test: Statistics=0.927, p=0.000\n",
      "Probably not Gaussian (reject H0)\n"
     ]
    },
    {
     "data": {
      "image/png": "[encoded data removed]",
      "text/plain": [
       "<Figure size 600x400 with 1 Axes>"
      ]
     },
     "metadata": {},
     "output_type": "display_data"
    }
   ],
   "source": [
    "check_normality(df['Wind_Direction'])"
   ]
  },
  {
   "cell_type": "code",
   "execution_count": 94,
   "metadata": {
    "colab": {
     "base_uri": "https://localhost:8080/",
     "height": 445
    },
    "id": "4rs-o04IFQhY",
    "outputId": "be781928-f796-4168-d61f-bd11f8877c25"
   },
   "outputs": [
    {
     "name": "stdout",
     "output_type": "stream",
     "text": [
      "Shapiro-Wilk Test: Statistics=0.986, p=0.000\n",
      "Probably not Gaussian (reject H0)\n"
     ]
    },
    {
     "data": {
      "image/png": "[encoded data removed]",
      "text/plain": [
       "<Figure size 600x400 with 1 Axes>"
      ]
     },
     "metadata": {},
     "output_type": "display_data"
    }
   ],
   "source": [
    "check_normality(df['Wind_Speed'])"
   ]
  },
  {
   "cell_type": "code",
   "execution_count": 95,
   "metadata": {
    "colab": {
     "base_uri": "https://localhost:8080/",
     "height": 423
    },
    "id": "7FA1nJ1jGMgz",
    "outputId": "d63e79b7-5688-46f2-8312-684e524be359"
   },
   "outputs": [
    {
     "data": {
      "text/html": [
       "<div>\n",
       "<style scoped>\n",
       "    .dataframe tbody tr th:only-of-type {\n",
       "        vertical-align: middle;\n",
       "    }\n",
       "\n",
       "    .dataframe tbody tr th {\n",
       "        vertical-align: top;\n",
       "    }\n",
       "\n",
       "    .dataframe thead th {\n",
       "        text-align: right;\n",
       "    }\n",
       "</style>\n",
       "<table border=\"1\" class=\"dataframe\">\n",
       "  <thead>\n",
       "    <tr style=\"text-align: right;\">\n",
       "      <th></th>\n",
       "      <th>Temperature</th>\n",
       "      <th>Wind_Direction</th>\n",
       "      <th>Dew_Point</th>\n",
       "      <th>Pressure</th>\n",
       "      <th>Wind_Speed</th>\n",
       "      <th>Relative_Humidity</th>\n",
       "    </tr>\n",
       "  </thead>\n",
       "  <tbody>\n",
       "    <tr>\n",
       "      <th>0</th>\n",
       "      <td>-1.595529</td>\n",
       "      <td>-1.469342</td>\n",
       "      <td>8.0</td>\n",
       "      <td>1.152042</td>\n",
       "      <td>0.299755</td>\n",
       "      <td>0.922421</td>\n",
       "    </tr>\n",
       "    <tr>\n",
       "      <th>1</th>\n",
       "      <td>-1.677121</td>\n",
       "      <td>-1.465306</td>\n",
       "      <td>8.0</td>\n",
       "      <td>1.099773</td>\n",
       "      <td>0.364182</td>\n",
       "      <td>1.037639</td>\n",
       "    </tr>\n",
       "    <tr>\n",
       "      <th>2</th>\n",
       "      <td>-1.752883</td>\n",
       "      <td>-1.491982</td>\n",
       "      <td>8.0</td>\n",
       "      <td>0.984791</td>\n",
       "      <td>0.297030</td>\n",
       "      <td>1.150938</td>\n",
       "    </tr>\n",
       "    <tr>\n",
       "      <th>3</th>\n",
       "      <td>-1.825889</td>\n",
       "      <td>-1.541819</td>\n",
       "      <td>8.0</td>\n",
       "      <td>0.950403</td>\n",
       "      <td>0.232014</td>\n",
       "      <td>1.249602</td>\n",
       "    </tr>\n",
       "    <tr>\n",
       "      <th>4</th>\n",
       "      <td>-1.891691</td>\n",
       "      <td>-1.599898</td>\n",
       "      <td>8.0</td>\n",
       "      <td>0.972625</td>\n",
       "      <td>0.222745</td>\n",
       "      <td>1.305916</td>\n",
       "    </tr>\n",
       "    <tr>\n",
       "      <th>...</th>\n",
       "      <td>...</td>\n",
       "      <td>...</td>\n",
       "      <td>...</td>\n",
       "      <td>...</td>\n",
       "      <td>...</td>\n",
       "      <td>...</td>\n",
       "    </tr>\n",
       "    <tr>\n",
       "      <th>17515</th>\n",
       "      <td>-1.455359</td>\n",
       "      <td>-1.294560</td>\n",
       "      <td>-6.0</td>\n",
       "      <td>0.828621</td>\n",
       "      <td>0.598724</td>\n",
       "      <td>-0.934651</td>\n",
       "    </tr>\n",
       "    <tr>\n",
       "      <th>17516</th>\n",
       "      <td>-1.559759</td>\n",
       "      <td>-1.223845</td>\n",
       "      <td>-6.0</td>\n",
       "      <td>0.895505</td>\n",
       "      <td>0.707930</td>\n",
       "      <td>-0.884309</td>\n",
       "    </tr>\n",
       "    <tr>\n",
       "      <th>17517</th>\n",
       "      <td>-1.663368</td>\n",
       "      <td>-1.187589</td>\n",
       "      <td>-6.0</td>\n",
       "      <td>0.836795</td>\n",
       "      <td>0.707350</td>\n",
       "      <td>-0.818238</td>\n",
       "    </tr>\n",
       "    <tr>\n",
       "      <th>17518</th>\n",
       "      <td>-1.759987</td>\n",
       "      <td>-1.171659</td>\n",
       "      <td>-5.0</td>\n",
       "      <td>0.821433</td>\n",
       "      <td>0.612869</td>\n",
       "      <td>-0.738131</td>\n",
       "    </tr>\n",
       "    <tr>\n",
       "      <th>17519</th>\n",
       "      <td>-1.845272</td>\n",
       "      <td>-1.165047</td>\n",
       "      <td>-5.0</td>\n",
       "      <td>0.792839</td>\n",
       "      <td>0.488631</td>\n",
       "      <td>-0.663954</td>\n",
       "    </tr>\n",
       "  </tbody>\n",
       "</table>\n",
       "<p>17520 rows × 6 columns</p>\n",
       "</div>"
      ],
      "text/plain": [
       "       Temperature  Wind_Direction  Dew_Point  Pressure  Wind_Speed  \\\n",
       "0        -1.595529       -1.469342        8.0  1.152042    0.299755   \n",
       "1        -1.677121       -1.465306        8.0  1.099773    0.364182   \n",
       "2        -1.752883       -1.491982        8.0  0.984791    0.297030   \n",
       "3        -1.825889       -1.541819        8.0  0.950403    0.232014   \n",
       "4        -1.891691       -1.599898        8.0  0.972625    0.222745   \n",
       "...            ...             ...        ...       ...         ...   \n",
       "17515    -1.455359       -1.294560       -6.0  0.828621    0.598724   \n",
       "17516    -1.559759       -1.223845       -6.0  0.895505    0.707930   \n",
       "17517    -1.663368       -1.187589       -6.0  0.836795    0.707350   \n",
       "17518    -1.759987       -1.171659       -5.0  0.821433    0.612869   \n",
       "17519    -1.845272       -1.165047       -5.0  0.792839    0.488631   \n",
       "\n",
       "       Relative_Humidity  \n",
       "0               0.922421  \n",
       "1               1.037639  \n",
       "2               1.150938  \n",
       "3               1.249602  \n",
       "4               1.305916  \n",
       "...                  ...  \n",
       "17515          -0.934651  \n",
       "17516          -0.884309  \n",
       "17517          -0.818238  \n",
       "17518          -0.738131  \n",
       "17519          -0.663954  \n",
       "\n",
       "[17520 rows x 6 columns]"
      ]
     },
     "execution_count": 95,
     "metadata": {},
     "output_type": "execute_result"
    }
   ],
   "source": [
    "X"
   ]
  },
  {
   "cell_type": "code",
   "execution_count": 96,
   "metadata": {
    "colab": {
     "base_uri": "https://localhost:8080/"
    },
    "id": "guTkbLOsGNh0",
    "outputId": "f57404a7-b343-4b2c-bbeb-ff00241fc1d0"
   },
   "outputs": [
    {
     "data": {
      "text/plain": [
       "0        0\n",
       "1        0\n",
       "2        0\n",
       "3        0\n",
       "4        0\n",
       "        ..\n",
       "17515    0\n",
       "17516    0\n",
       "17517    0\n",
       "17518    0\n",
       "17519    0\n",
       "Name: Solar_Radiation, Length: 17520, dtype: int64"
      ]
     },
     "execution_count": 96,
     "metadata": {},
     "output_type": "execute_result"
    }
   ],
   "source": [
    "y"
   ]
  },
  {
   "cell_type": "code",
   "execution_count": 97,
   "metadata": {
    "id": "3VOwqkgGFhCc"
   },
   "outputs": [],
   "source": [
    "from sklearn.preprocessing import PowerTransformer\n",
    "from sklearn.model_selection import train_test_split, cross_val_score\n",
    "\n",
    "X_train, X_test, y_train, y_test = train_test_split(X,y,test_size=0.2,random_state=0)"
   ]
  },
  {
   "cell_type": "code",
   "execution_count": 98,
   "metadata": {
    "id": "ClQAJIiwIYVv"
   },
   "outputs": [],
   "source": [
    "from sklearn.preprocessing import StandardScaler, MinMaxScaler\n",
    "\n",
    "scaler = StandardScaler()\n",
    "\n",
    "# fit the scaler to the train set, it will learn the parameters\n",
    "scaler.fit(X_train)\n",
    "\n",
    "# transform train and test sets\n",
    "X_train_scaled = scaler.transform(X_train)\n",
    "X_test_scaled = scaler.transform(X_test)"
   ]
  },
  {
   "cell_type": "code",
   "execution_count": 99,
   "metadata": {
    "colab": {
     "base_uri": "https://localhost:8080/"
    },
    "id": "dxo6n3b5GR52",
    "outputId": "c92e3fb9-e41c-4957-b768-ebb3aa360244"
   },
   "outputs": [
    {
     "data": {
      "text/plain": [
       "0.47502289480715265"
      ]
     },
     "execution_count": 99,
     "metadata": {},
     "output_type": "execute_result"
    }
   ],
   "source": [
    "from sklearn.linear_model import LinearRegression\n",
    "from sklearn.metrics import r2_score\n",
    "\n",
    "# Applying Regression without any transformation\n",
    "lr = LinearRegression()\n",
    "\n",
    "lr.fit(X_train_scaled,y_train)\n",
    "\n",
    "y_pred = lr.predict(X_test_scaled)\n",
    "\n",
    "r2_score(y_test,y_pred)"
   ]
  },
  {
   "cell_type": "code",
   "execution_count": 100,
   "metadata": {
    "colab": {
     "base_uri": "https://localhost:8080/",
     "height": 255
    },
    "id": "YqYxqQXIGcRX",
    "outputId": "4af61d8b-4c12-4e15-f376-41b747b917d6"
   },
   "outputs": [
    {
     "name": "stdout",
     "output_type": "stream",
     "text": [
      "0.49410189766294554\n"
     ]
    },
    {
     "data": {
      "text/html": [
       "<div>\n",
       "<style scoped>\n",
       "    .dataframe tbody tr th:only-of-type {\n",
       "        vertical-align: middle;\n",
       "    }\n",
       "\n",
       "    .dataframe tbody tr th {\n",
       "        vertical-align: top;\n",
       "    }\n",
       "\n",
       "    .dataframe thead th {\n",
       "        text-align: right;\n",
       "    }\n",
       "</style>\n",
       "<table border=\"1\" class=\"dataframe\">\n",
       "  <thead>\n",
       "    <tr style=\"text-align: right;\">\n",
       "      <th></th>\n",
       "      <th>cols</th>\n",
       "      <th>Yeo_Johnson_lambdas</th>\n",
       "    </tr>\n",
       "  </thead>\n",
       "  <tbody>\n",
       "    <tr>\n",
       "      <th>0</th>\n",
       "      <td>Temperature</td>\n",
       "      <td>1.063462</td>\n",
       "    </tr>\n",
       "    <tr>\n",
       "      <th>1</th>\n",
       "      <td>Wind_Direction</td>\n",
       "      <td>1.333706</td>\n",
       "    </tr>\n",
       "    <tr>\n",
       "      <th>2</th>\n",
       "      <td>Dew_Point</td>\n",
       "      <td>1.260876</td>\n",
       "    </tr>\n",
       "    <tr>\n",
       "      <th>3</th>\n",
       "      <td>Pressure</td>\n",
       "      <td>1.166403</td>\n",
       "    </tr>\n",
       "    <tr>\n",
       "      <th>4</th>\n",
       "      <td>Wind_Speed</td>\n",
       "      <td>0.760951</td>\n",
       "    </tr>\n",
       "    <tr>\n",
       "      <th>5</th>\n",
       "      <td>Relative_Humidity</td>\n",
       "      <td>0.836572</td>\n",
       "    </tr>\n",
       "  </tbody>\n",
       "</table>\n",
       "</div>"
      ],
      "text/plain": [
       "                cols  Yeo_Johnson_lambdas\n",
       "0        Temperature             1.063462\n",
       "1     Wind_Direction             1.333706\n",
       "2          Dew_Point             1.260876\n",
       "3           Pressure             1.166403\n",
       "4         Wind_Speed             0.760951\n",
       "5  Relative_Humidity             0.836572"
      ]
     },
     "execution_count": 100,
     "metadata": {},
     "output_type": "execute_result"
    }
   ],
   "source": [
    "# Apply Yeo-Johnson transform\n",
    "\n",
    "pt = PowerTransformer()\n",
    "\n",
    "X_train_transformed = pt.fit_transform(X_train_scaled)\n",
    "X_test_transformed = pt.transform(X_test_scaled)\n",
    "\n",
    "lr = LinearRegression()\n",
    "lr.fit(X_train_transformed,y_train)\n",
    "\n",
    "y_pred2 = lr.predict(X_test_transformed)\n",
    "\n",
    "print(r2_score(y_test,y_pred2))\n",
    "\n",
    "pd.DataFrame({'cols':X_train.columns,'Yeo_Johnson_lambdas':pt.lambdas_})\n"
   ]
  },
  {
   "cell_type": "code",
   "execution_count": null,
   "metadata": {
    "colab": {
     "base_uri": "https://localhost:8080/"
    },
    "id": "vdOVaoeUMJgY",
    "outputId": "54aa3aa4-4036-4143-cdc0-df448d7cb227"
   },
   "outputs": [],
   "source": []
  },
  {
   "cell_type": "code",
   "execution_count": null,
   "metadata": {
    "colab": {
     "base_uri": "https://localhost:8080/"
    },
    "id": "F8UPqzmaMllm",
    "outputId": "a864e867-5ccd-43e2-ad72-3f80fc00c099"
   },
   "outputs": [],
   "source": []
  },
  {
   "cell_type": "code",
   "execution_count": 101,
   "metadata": {
    "id": "iMO6L-GgTthS"
   },
   "outputs": [],
   "source": [
    "# export\n",
    "import pickle\n",
    "pickle.dump(lr,open('lr.pkl','wb'))"
   ]
  },
  {
   "cell_type": "code",
   "execution_count": 102,
   "metadata": {
    "colab": {
     "base_uri": "https://localhost:8080/"
    },
    "id": "kH5t5YfiTBQ3",
    "outputId": "7ba96260-2ee5-41b5-cbf1-e2a571198290"
   },
   "outputs": [
    {
     "name": "stdout",
     "output_type": "stream",
     "text": [
      "Predicted value: 155515.35930096247\n"
     ]
    }
   ],
   "source": [
    "# Assuming you have loaded your trained model (e.g., from a pickle file)\n",
    "import pickle\n",
    "\n",
    "# Load the model\n",
    "with open('lr.pkl', 'rb') as f:\n",
    "  model = pickle.load(f)\n",
    "\n",
    "# Define your new input feature values as a NumPy array\n",
    "# Temperature, Wind_Direction, Dew_Point, Pressure, Wind_Speed, Relative_Humidity\n",
    "new_data = np.array([[27,4,15,1006,9,50]])  # Replace with your actual values\n",
    "\n",
    "# Make predictions\n",
    "predictions = model.predict(new_data)\n",
    "\n",
    "# Print the predictions\n",
    "print(\"Predicted value:\", predictions[0])  # Assuming single prediction\n"
   ]
  },
  {
   "cell_type": "code",
   "execution_count": 103,
   "metadata": {
    "colab": {
     "base_uri": "https://localhost:8080/",
     "height": 423
    },
    "id": "tebOQNFNBniQ",
    "outputId": "cbbb379f-16f5-4817-9ac5-f59171da2f73"
   },
   "outputs": [
    {
     "data": {
      "text/html": [
       "<div>\n",
       "<style scoped>\n",
       "    .dataframe tbody tr th:only-of-type {\n",
       "        vertical-align: middle;\n",
       "    }\n",
       "\n",
       "    .dataframe tbody tr th {\n",
       "        vertical-align: top;\n",
       "    }\n",
       "\n",
       "    .dataframe thead th {\n",
       "        text-align: right;\n",
       "    }\n",
       "</style>\n",
       "<table border=\"1\" class=\"dataframe\">\n",
       "  <thead>\n",
       "    <tr style=\"text-align: right;\">\n",
       "      <th></th>\n",
       "      <th>Dew_Point</th>\n",
       "      <th>Temperature</th>\n",
       "      <th>Pressure</th>\n",
       "      <th>Relative_Humidity</th>\n",
       "      <th>Wind_Direction</th>\n",
       "      <th>Wind_Speed</th>\n",
       "      <th>Solar_Radiation</th>\n",
       "      <th>Dew_Point_zscore</th>\n",
       "    </tr>\n",
       "  </thead>\n",
       "  <tbody>\n",
       "    <tr>\n",
       "      <th>0</th>\n",
       "      <td>8.0</td>\n",
       "      <td>-1.595529</td>\n",
       "      <td>1.152042</td>\n",
       "      <td>0.922421</td>\n",
       "      <td>-1.469342</td>\n",
       "      <td>0.299755</td>\n",
       "      <td>0</td>\n",
       "      <td>-0.311070</td>\n",
       "    </tr>\n",
       "    <tr>\n",
       "      <th>1</th>\n",
       "      <td>8.0</td>\n",
       "      <td>-1.677121</td>\n",
       "      <td>1.099773</td>\n",
       "      <td>1.037639</td>\n",
       "      <td>-1.465306</td>\n",
       "      <td>0.364182</td>\n",
       "      <td>0</td>\n",
       "      <td>-0.311070</td>\n",
       "    </tr>\n",
       "    <tr>\n",
       "      <th>2</th>\n",
       "      <td>8.0</td>\n",
       "      <td>-1.752883</td>\n",
       "      <td>0.984791</td>\n",
       "      <td>1.150938</td>\n",
       "      <td>-1.491982</td>\n",
       "      <td>0.297030</td>\n",
       "      <td>0</td>\n",
       "      <td>-0.311070</td>\n",
       "    </tr>\n",
       "    <tr>\n",
       "      <th>3</th>\n",
       "      <td>8.0</td>\n",
       "      <td>-1.825889</td>\n",
       "      <td>0.950403</td>\n",
       "      <td>1.249602</td>\n",
       "      <td>-1.541819</td>\n",
       "      <td>0.232014</td>\n",
       "      <td>0</td>\n",
       "      <td>-0.311070</td>\n",
       "    </tr>\n",
       "    <tr>\n",
       "      <th>4</th>\n",
       "      <td>8.0</td>\n",
       "      <td>-1.891691</td>\n",
       "      <td>0.972625</td>\n",
       "      <td>1.305916</td>\n",
       "      <td>-1.599898</td>\n",
       "      <td>0.222745</td>\n",
       "      <td>0</td>\n",
       "      <td>-0.311070</td>\n",
       "    </tr>\n",
       "    <tr>\n",
       "      <th>...</th>\n",
       "      <td>...</td>\n",
       "      <td>...</td>\n",
       "      <td>...</td>\n",
       "      <td>...</td>\n",
       "      <td>...</td>\n",
       "      <td>...</td>\n",
       "      <td>...</td>\n",
       "      <td>...</td>\n",
       "    </tr>\n",
       "    <tr>\n",
       "      <th>17515</th>\n",
       "      <td>-6.0</td>\n",
       "      <td>-1.455359</td>\n",
       "      <td>0.828621</td>\n",
       "      <td>-0.934651</td>\n",
       "      <td>-1.294560</td>\n",
       "      <td>0.598724</td>\n",
       "      <td>0</td>\n",
       "      <td>-1.601369</td>\n",
       "    </tr>\n",
       "    <tr>\n",
       "      <th>17516</th>\n",
       "      <td>-6.0</td>\n",
       "      <td>-1.559759</td>\n",
       "      <td>0.895505</td>\n",
       "      <td>-0.884309</td>\n",
       "      <td>-1.223845</td>\n",
       "      <td>0.707930</td>\n",
       "      <td>0</td>\n",
       "      <td>-1.601369</td>\n",
       "    </tr>\n",
       "    <tr>\n",
       "      <th>17517</th>\n",
       "      <td>-6.0</td>\n",
       "      <td>-1.663368</td>\n",
       "      <td>0.836795</td>\n",
       "      <td>-0.818238</td>\n",
       "      <td>-1.187589</td>\n",
       "      <td>0.707350</td>\n",
       "      <td>0</td>\n",
       "      <td>-1.601369</td>\n",
       "    </tr>\n",
       "    <tr>\n",
       "      <th>17518</th>\n",
       "      <td>-5.0</td>\n",
       "      <td>-1.759987</td>\n",
       "      <td>0.821433</td>\n",
       "      <td>-0.738131</td>\n",
       "      <td>-1.171659</td>\n",
       "      <td>0.612869</td>\n",
       "      <td>0</td>\n",
       "      <td>-1.509205</td>\n",
       "    </tr>\n",
       "    <tr>\n",
       "      <th>17519</th>\n",
       "      <td>-5.0</td>\n",
       "      <td>-1.845272</td>\n",
       "      <td>0.792839</td>\n",
       "      <td>-0.663954</td>\n",
       "      <td>-1.165047</td>\n",
       "      <td>0.488631</td>\n",
       "      <td>0</td>\n",
       "      <td>-1.509205</td>\n",
       "    </tr>\n",
       "  </tbody>\n",
       "</table>\n",
       "<p>17520 rows × 8 columns</p>\n",
       "</div>"
      ],
      "text/plain": [
       "       Dew_Point  Temperature  Pressure  Relative_Humidity  Wind_Direction  \\\n",
       "0            8.0    -1.595529  1.152042           0.922421       -1.469342   \n",
       "1            8.0    -1.677121  1.099773           1.037639       -1.465306   \n",
       "2            8.0    -1.752883  0.984791           1.150938       -1.491982   \n",
       "3            8.0    -1.825889  0.950403           1.249602       -1.541819   \n",
       "4            8.0    -1.891691  0.972625           1.305916       -1.599898   \n",
       "...          ...          ...       ...                ...             ...   \n",
       "17515       -6.0    -1.455359  0.828621          -0.934651       -1.294560   \n",
       "17516       -6.0    -1.559759  0.895505          -0.884309       -1.223845   \n",
       "17517       -6.0    -1.663368  0.836795          -0.818238       -1.187589   \n",
       "17518       -5.0    -1.759987  0.821433          -0.738131       -1.171659   \n",
       "17519       -5.0    -1.845272  0.792839          -0.663954       -1.165047   \n",
       "\n",
       "       Wind_Speed  Solar_Radiation  Dew_Point_zscore  \n",
       "0        0.299755                0         -0.311070  \n",
       "1        0.364182                0         -0.311070  \n",
       "2        0.297030                0         -0.311070  \n",
       "3        0.232014                0         -0.311070  \n",
       "4        0.222745                0         -0.311070  \n",
       "...           ...              ...               ...  \n",
       "17515    0.598724                0         -1.601369  \n",
       "17516    0.707930                0         -1.601369  \n",
       "17517    0.707350                0         -1.601369  \n",
       "17518    0.612869                0         -1.509205  \n",
       "17519    0.488631                0         -1.509205  \n",
       "\n",
       "[17520 rows x 8 columns]"
      ]
     },
     "execution_count": 103,
     "metadata": {},
     "output_type": "execute_result"
    }
   ],
   "source": [
    "df"
   ]
  },
  {
   "cell_type": "code",
   "execution_count": null,
   "metadata": {},
   "outputs": [],
   "source": []
  },
  {
   "cell_type": "code",
   "execution_count": null,
   "metadata": {},
   "outputs": [],
   "source": []
  }
 ],
 "metadata": {
  "colab": {
   "provenance": []
  },
  "kernelspec": {
   "display_name": "Python 3 (ipykernel)",
   "language": "python",
   "name": "python3"
  },
  "language_info": {
   "codemirror_mode": {
    "name": "ipython",
    "version": 3
   },
   "file_extension": ".py",
   "mimetype": "text/x-python",
   "name": "python",
   "nbconvert_exporter": "python",
   "pygments_lexer": "ipython3",
   "version": "3.12.3"
  }
 },
 "nbformat": 4,
 "nbformat_minor": 4
}
